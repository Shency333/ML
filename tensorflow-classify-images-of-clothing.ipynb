{
 "cells": [
  {
   "cell_type": "code",
   "execution_count": 1,
   "id": "62f15628",
   "metadata": {
    "_cell_guid": "b1076dfc-b9ad-4769-8c92-a6c4dae69d19",
    "_uuid": "8f2839f25d086af736a60e9eeb907d3b93b6e0e5",
    "execution": {
     "iopub.execute_input": "2023-07-03T05:23:27.024608Z",
     "iopub.status.busy": "2023-07-03T05:23:27.024135Z",
     "iopub.status.idle": "2023-07-03T05:23:35.346856Z",
     "shell.execute_reply": "2023-07-03T05:23:35.345074Z"
    },
    "papermill": {
     "duration": 8.337868,
     "end_time": "2023-07-03T05:23:35.349398",
     "exception": false,
     "start_time": "2023-07-03T05:23:27.011530",
     "status": "completed"
    },
    "tags": []
   },
   "outputs": [
    {
     "name": "stderr",
     "output_type": "stream",
     "text": [
      "/opt/conda/lib/python3.10/site-packages/tensorflow_io/python/ops/__init__.py:98: UserWarning: unable to load libtensorflow_io_plugins.so: unable to open file: libtensorflow_io_plugins.so, from paths: ['/opt/conda/lib/python3.10/site-packages/tensorflow_io/python/ops/libtensorflow_io_plugins.so']\n",
      "caused by: ['/opt/conda/lib/python3.10/site-packages/tensorflow_io/python/ops/libtensorflow_io_plugins.so: undefined symbol: _ZN3tsl6StatusC1EN10tensorflow5error4CodeESt17basic_string_viewIcSt11char_traitsIcEENS_14SourceLocationE']\n",
      "  warnings.warn(f\"unable to load libtensorflow_io_plugins.so: {e}\")\n",
      "/opt/conda/lib/python3.10/site-packages/tensorflow_io/python/ops/__init__.py:104: UserWarning: file system plugins are not loaded: unable to open file: libtensorflow_io.so, from paths: ['/opt/conda/lib/python3.10/site-packages/tensorflow_io/python/ops/libtensorflow_io.so']\n",
      "caused by: ['/opt/conda/lib/python3.10/site-packages/tensorflow_io/python/ops/libtensorflow_io.so: undefined symbol: _ZTVN10tensorflow13GcsFileSystemE']\n",
      "  warnings.warn(f\"file system plugins are not loaded: {e}\")\n"
     ]
    },
    {
     "name": "stdout",
     "output_type": "stream",
     "text": [
      "2.12.0\n"
     ]
    }
   ],
   "source": [
    "import tensorflow as tf\n",
    "\n",
    "import numpy as np\n",
    "import matplotlib.pyplot as plt\n",
    "\n",
    "print(tf.__version__)"
   ]
  },
  {
   "cell_type": "code",
   "execution_count": 2,
   "id": "0ad6a14b",
   "metadata": {
    "execution": {
     "iopub.execute_input": "2023-07-03T05:23:35.370264Z",
     "iopub.status.busy": "2023-07-03T05:23:35.369121Z",
     "iopub.status.idle": "2023-07-03T05:23:40.482814Z",
     "shell.execute_reply": "2023-07-03T05:23:40.481762Z"
    },
    "papermill": {
     "duration": 5.12718,
     "end_time": "2023-07-03T05:23:40.485709",
     "exception": false,
     "start_time": "2023-07-03T05:23:35.358529",
     "status": "completed"
    },
    "tags": []
   },
   "outputs": [
    {
     "name": "stdout",
     "output_type": "stream",
     "text": [
      "Downloading data from https://storage.googleapis.com/tensorflow/tf-keras-datasets/train-labels-idx1-ubyte.gz\n",
      "29515/29515 [==============================] - 0s 1us/step\n",
      "Downloading data from https://storage.googleapis.com/tensorflow/tf-keras-datasets/train-images-idx3-ubyte.gz\n",
      "26421880/26421880 [==============================] - 2s 0us/step\n",
      "Downloading data from https://storage.googleapis.com/tensorflow/tf-keras-datasets/t10k-labels-idx1-ubyte.gz\n",
      "5148/5148 [==============================] - 0s 0us/step\n",
      "Downloading data from https://storage.googleapis.com/tensorflow/tf-keras-datasets/t10k-images-idx3-ubyte.gz\n",
      "4422102/4422102 [==============================] - 1s 0us/step\n"
     ]
    }
   ],
   "source": [
    "fashion_mnist = tf.keras.datasets.fashion_mnist\n",
    "\n",
    "(train_images, train_labels), (test_images, test_labels) = fashion_mnist.load_data()"
   ]
  },
  {
   "cell_type": "code",
   "execution_count": 3,
   "id": "edd8a6d7",
   "metadata": {
    "execution": {
     "iopub.execute_input": "2023-07-03T05:23:40.511065Z",
     "iopub.status.busy": "2023-07-03T05:23:40.510332Z",
     "iopub.status.idle": "2023-07-03T05:23:40.517523Z",
     "shell.execute_reply": "2023-07-03T05:23:40.516583Z"
    },
    "papermill": {
     "duration": 0.022212,
     "end_time": "2023-07-03T05:23:40.519831",
     "exception": false,
     "start_time": "2023-07-03T05:23:40.497619",
     "status": "completed"
    },
    "tags": []
   },
   "outputs": [
    {
     "data": {
      "text/plain": [
       "array([9, 0, 0, ..., 3, 0, 5], dtype=uint8)"
      ]
     },
     "execution_count": 3,
     "metadata": {},
     "output_type": "execute_result"
    }
   ],
   "source": [
    "train_labels"
   ]
  },
  {
   "cell_type": "markdown",
   "id": "6f49f342",
   "metadata": {
    "papermill": {
     "duration": 0.011327,
     "end_time": "2023-07-03T05:23:40.542835",
     "exception": false,
     "start_time": "2023-07-03T05:23:40.531508",
     "status": "completed"
    },
    "tags": []
   },
   "source": [
    "Label\tClass\n",
    "0\tT-shirt/top\n",
    "1\tTrouser\n",
    "2\tPullover\n",
    "3\tDress\n",
    "4\tCoat\n",
    "5\tSandal\n",
    "6\tShirt\n",
    "7\tSneaker\n",
    "8\tBag\n",
    "9\tAnkle boot"
   ]
  },
  {
   "cell_type": "code",
   "execution_count": 4,
   "id": "8c2f2dad",
   "metadata": {
    "execution": {
     "iopub.execute_input": "2023-07-03T05:23:40.567535Z",
     "iopub.status.busy": "2023-07-03T05:23:40.567164Z",
     "iopub.status.idle": "2023-07-03T05:23:40.571498Z",
     "shell.execute_reply": "2023-07-03T05:23:40.570707Z"
    },
    "papermill": {
     "duration": 0.019059,
     "end_time": "2023-07-03T05:23:40.573440",
     "exception": false,
     "start_time": "2023-07-03T05:23:40.554381",
     "status": "completed"
    },
    "tags": []
   },
   "outputs": [],
   "source": [
    "class_names = ['T-shirt/top', 'Trouser', 'Pullover', 'Dress', 'Coat',\n",
    "               'Sandal', 'Shirt', 'Sneaker', 'Bag', 'Ankle boot']"
   ]
  },
  {
   "cell_type": "code",
   "execution_count": 5,
   "id": "5d97e653",
   "metadata": {
    "execution": {
     "iopub.execute_input": "2023-07-03T05:23:40.599923Z",
     "iopub.status.busy": "2023-07-03T05:23:40.599557Z",
     "iopub.status.idle": "2023-07-03T05:23:40.605313Z",
     "shell.execute_reply": "2023-07-03T05:23:40.604309Z"
    },
    "papermill": {
     "duration": 0.021897,
     "end_time": "2023-07-03T05:23:40.607416",
     "exception": false,
     "start_time": "2023-07-03T05:23:40.585519",
     "status": "completed"
    },
    "tags": []
   },
   "outputs": [
    {
     "data": {
      "text/plain": [
       "(60000, 28, 28)"
      ]
     },
     "execution_count": 5,
     "metadata": {},
     "output_type": "execute_result"
    }
   ],
   "source": [
    "train_images.shape"
   ]
  },
  {
   "cell_type": "code",
   "execution_count": 6,
   "id": "d2db5a72",
   "metadata": {
    "execution": {
     "iopub.execute_input": "2023-07-03T05:23:40.633017Z",
     "iopub.status.busy": "2023-07-03T05:23:40.632214Z",
     "iopub.status.idle": "2023-07-03T05:23:40.637623Z",
     "shell.execute_reply": "2023-07-03T05:23:40.636875Z"
    },
    "papermill": {
     "duration": 0.020414,
     "end_time": "2023-07-03T05:23:40.639631",
     "exception": false,
     "start_time": "2023-07-03T05:23:40.619217",
     "status": "completed"
    },
    "tags": []
   },
   "outputs": [
    {
     "data": {
      "text/plain": [
       "60000"
      ]
     },
     "execution_count": 6,
     "metadata": {},
     "output_type": "execute_result"
    }
   ],
   "source": [
    "len(train_labels) "
   ]
  },
  {
   "cell_type": "code",
   "execution_count": 7,
   "id": "c2badaa8",
   "metadata": {
    "execution": {
     "iopub.execute_input": "2023-07-03T05:23:40.665545Z",
     "iopub.status.busy": "2023-07-03T05:23:40.664820Z",
     "iopub.status.idle": "2023-07-03T05:23:40.671529Z",
     "shell.execute_reply": "2023-07-03T05:23:40.670587Z"
    },
    "papermill": {
     "duration": 0.022133,
     "end_time": "2023-07-03T05:23:40.673657",
     "exception": false,
     "start_time": "2023-07-03T05:23:40.651524",
     "status": "completed"
    },
    "tags": []
   },
   "outputs": [
    {
     "data": {
      "text/plain": [
       "(10000, 28, 28)"
      ]
     },
     "execution_count": 7,
     "metadata": {},
     "output_type": "execute_result"
    }
   ],
   "source": [
    "test_images.shape"
   ]
  },
  {
   "cell_type": "code",
   "execution_count": 8,
   "id": "e4758f98",
   "metadata": {
    "execution": {
     "iopub.execute_input": "2023-07-03T05:23:40.699450Z",
     "iopub.status.busy": "2023-07-03T05:23:40.699058Z",
     "iopub.status.idle": "2023-07-03T05:23:40.705364Z",
     "shell.execute_reply": "2023-07-03T05:23:40.704432Z"
    },
    "papermill": {
     "duration": 0.021543,
     "end_time": "2023-07-03T05:23:40.707366",
     "exception": false,
     "start_time": "2023-07-03T05:23:40.685823",
     "status": "completed"
    },
    "tags": []
   },
   "outputs": [
    {
     "data": {
      "text/plain": [
       "numpy.ndarray"
      ]
     },
     "execution_count": 8,
     "metadata": {},
     "output_type": "execute_result"
    }
   ],
   "source": [
    "type(test_images)"
   ]
  },
  {
   "cell_type": "code",
   "execution_count": 9,
   "id": "ebaba284",
   "metadata": {
    "execution": {
     "iopub.execute_input": "2023-07-03T05:23:40.732911Z",
     "iopub.status.busy": "2023-07-03T05:23:40.732531Z",
     "iopub.status.idle": "2023-07-03T05:23:40.738214Z",
     "shell.execute_reply": "2023-07-03T05:23:40.737286Z"
    },
    "papermill": {
     "duration": 0.020631,
     "end_time": "2023-07-03T05:23:40.740125",
     "exception": false,
     "start_time": "2023-07-03T05:23:40.719494",
     "status": "completed"
    },
    "tags": []
   },
   "outputs": [
    {
     "data": {
      "text/plain": [
       "3"
      ]
     },
     "execution_count": 9,
     "metadata": {},
     "output_type": "execute_result"
    }
   ],
   "source": [
    "test_images.ndim"
   ]
  },
  {
   "cell_type": "code",
   "execution_count": 10,
   "id": "f16d59db",
   "metadata": {
    "execution": {
     "iopub.execute_input": "2023-07-03T05:23:40.766093Z",
     "iopub.status.busy": "2023-07-03T05:23:40.765710Z",
     "iopub.status.idle": "2023-07-03T05:23:40.770760Z",
     "shell.execute_reply": "2023-07-03T05:23:40.770082Z"
    },
    "papermill": {
     "duration": 0.020367,
     "end_time": "2023-07-03T05:23:40.772564",
     "exception": false,
     "start_time": "2023-07-03T05:23:40.752197",
     "status": "completed"
    },
    "tags": []
   },
   "outputs": [
    {
     "data": {
      "text/plain": [
       "10000"
      ]
     },
     "execution_count": 10,
     "metadata": {},
     "output_type": "execute_result"
    }
   ],
   "source": [
    "len(test_labels)"
   ]
  },
  {
   "cell_type": "code",
   "execution_count": 11,
   "id": "245867f6",
   "metadata": {
    "execution": {
     "iopub.execute_input": "2023-07-03T05:23:40.799291Z",
     "iopub.status.busy": "2023-07-03T05:23:40.798896Z",
     "iopub.status.idle": "2023-07-03T05:23:41.108369Z",
     "shell.execute_reply": "2023-07-03T05:23:41.107331Z"
    },
    "papermill": {
     "duration": 0.3262,
     "end_time": "2023-07-03T05:23:41.111115",
     "exception": false,
     "start_time": "2023-07-03T05:23:40.784915",
     "status": "completed"
    },
    "tags": []
   },
   "outputs": [
    {
     "data": {
      "image/png": "[encoded data removed]",
      "text/plain": [
       "<Figure size 640x480 with 2 Axes>"
      ]
     },
     "metadata": {},
     "output_type": "display_data"
    }
   ],
   "source": [
    "plt.figure()\n",
    "plt.imshow(train_images[0]) #indexing\n",
    "plt.colorbar()\n",
    "plt.grid(False)\n",
    "plt.show()"
   ]
  },
  {
   "cell_type": "code",
   "execution_count": 12,
   "id": "3886362a",
   "metadata": {
    "execution": {
     "iopub.execute_input": "2023-07-03T05:23:41.139109Z",
     "iopub.status.busy": "2023-07-03T05:23:41.138024Z",
     "iopub.status.idle": "2023-07-03T05:23:41.352052Z",
     "shell.execute_reply": "2023-07-03T05:23:41.351022Z"
    },
    "papermill": {
     "duration": 0.230614,
     "end_time": "2023-07-03T05:23:41.354574",
     "exception": false,
     "start_time": "2023-07-03T05:23:41.123960",
     "status": "completed"
    },
    "tags": []
   },
   "outputs": [],
   "source": [
    "train_images = train_images / 255.0\n",
    "\n",
    "test_images = test_images / 255.0"
   ]
  },
  {
   "cell_type": "code",
   "execution_count": 13,
   "id": "77413a11",
   "metadata": {
    "execution": {
     "iopub.execute_input": "2023-07-03T05:23:41.382210Z",
     "iopub.status.busy": "2023-07-03T05:23:41.381803Z",
     "iopub.status.idle": "2023-07-03T05:23:42.697658Z",
     "shell.execute_reply": "2023-07-03T05:23:42.696916Z"
    },
    "papermill": {
     "duration": 1.332035,
     "end_time": "2023-07-03T05:23:42.699760",
     "exception": false,
     "start_time": "2023-07-03T05:23:41.367725",
     "status": "completed"
    },
    "tags": []
   },
   "outputs": [
    {
     "data": {
      "image/png": "[encoded data removed]",
      "text/plain": [
       "<Figure size 1000x1000 with 25 Axes>"
      ]
     },
     "metadata": {},
     "output_type": "display_data"
    }
   ],
   "source": [
    "plt.figure(figsize=(10,10))\n",
    "for i in range(25):\n",
    "    plt.subplot(5,5,i+1)\n",
    "    plt.xticks([])\n",
    "    plt.yticks([])\n",
    "    plt.grid(False)\n",
    "    plt.imshow(train_images[i], cmap=plt.cm.binary)\n",
    "    plt.xlabel(class_names[train_labels[i]])\n",
    "plt.show()"
   ]
  },
  {
   "cell_type": "code",
   "execution_count": 14,
   "id": "1f77b6a6",
   "metadata": {
    "execution": {
     "iopub.execute_input": "2023-07-03T05:23:42.729275Z",
     "iopub.status.busy": "2023-07-03T05:23:42.728385Z",
     "iopub.status.idle": "2023-07-03T05:23:42.897039Z",
     "shell.execute_reply": "2023-07-03T05:23:42.895940Z"
    },
    "papermill": {
     "duration": 0.186325,
     "end_time": "2023-07-03T05:23:42.899804",
     "exception": false,
     "start_time": "2023-07-03T05:23:42.713479",
     "status": "completed"
    },
    "tags": []
   },
   "outputs": [],
   "source": [
    "model=tf.keras.Sequential([\n",
    "    tf.keras.layers.Flatten(input_shape=(28,28)),\n",
    "    tf.keras.layers.Dense(128,activation='relu'),\n",
    "    tf.keras.layers.Dense(10)\n",
    "])"
   ]
  },
  {
   "cell_type": "code",
   "execution_count": 15,
   "id": "e7bcf3af",
   "metadata": {
    "execution": {
     "iopub.execute_input": "2023-07-03T05:23:42.929440Z",
     "iopub.status.busy": "2023-07-03T05:23:42.928339Z",
     "iopub.status.idle": "2023-07-03T05:23:42.948146Z",
     "shell.execute_reply": "2023-07-03T05:23:42.947356Z"
    },
    "papermill": {
     "duration": 0.037216,
     "end_time": "2023-07-03T05:23:42.950556",
     "exception": false,
     "start_time": "2023-07-03T05:23:42.913340",
     "status": "completed"
    },
    "tags": []
   },
   "outputs": [],
   "source": [
    "model.compile(optimizer='adam',\n",
    "              loss=tf.keras.losses.SparseCategoricalCrossentropy(from_logits=True),\n",
    "              metrics=['accuracy'])"
   ]
  },
  {
   "cell_type": "code",
   "execution_count": 16,
   "id": "78ed1c20",
   "metadata": {
    "execution": {
     "iopub.execute_input": "2023-07-03T05:23:42.980958Z",
     "iopub.status.busy": "2023-07-03T05:23:42.979834Z",
     "iopub.status.idle": "2023-07-03T05:25:05.945930Z",
     "shell.execute_reply": "2023-07-03T05:25:05.944757Z"
    },
    "papermill": {
     "duration": 83.052998,
     "end_time": "2023-07-03T05:25:06.017792",
     "exception": false,
     "start_time": "2023-07-03T05:23:42.964794",
     "status": "completed"
    },
    "tags": []
   },
   "outputs": [
    {
     "name": "stdout",
     "output_type": "stream",
     "text": [
      "Epoch 1/10\n",
      "1875/1875 [==============================] - 6s 3ms/step - loss: 0.4973 - accuracy: 0.8255\n",
      "Epoch 2/10\n",
      "1875/1875 [==============================] - 5s 2ms/step - loss: 0.3782 - accuracy: 0.8622\n",
      "Epoch 3/10\n",
      "1875/1875 [==============================] - 4s 2ms/step - loss: 0.3410 - accuracy: 0.8760\n",
      "Epoch 4/10\n",
      "1875/1875 [==============================] - 5s 2ms/step - loss: 0.3163 - accuracy: 0.8841\n",
      "Epoch 5/10\n",
      "1875/1875 [==============================] - 4s 2ms/step - loss: 0.2970 - accuracy: 0.8907\n",
      "Epoch 6/10\n",
      "1875/1875 [==============================] - 5s 2ms/step - loss: 0.2820 - accuracy: 0.8957\n",
      "Epoch 7/10\n",
      "1875/1875 [==============================] - 4s 2ms/step - loss: 0.2702 - accuracy: 0.9003\n",
      "Epoch 8/10\n",
      "1875/1875 [==============================] - 5s 3ms/step - loss: 0.2593 - accuracy: 0.9029\n",
      "Epoch 9/10\n",
      "1875/1875 [==============================] - 5s 2ms/step - loss: 0.2521 - accuracy: 0.9061\n",
      "Epoch 10/10\n",
      "1875/1875 [==============================] - 5s 2ms/step - loss: 0.2412 - accuracy: 0.9102\n"
     ]
    },
    {
     "data": {
      "text/plain": [
       "<keras.callbacks.History at 0x7cf711eef160>"
      ]
     },
     "execution_count": 16,
     "metadata": {},
     "output_type": "execute_result"
    }
   ],
   "source": [
    "model.fit(train_images,train_labels,epochs=10)"
   ]
  },
  {
   "cell_type": "code",
   "execution_count": 17,
   "id": "72697a68",
   "metadata": {
    "execution": {
     "iopub.execute_input": "2023-07-03T05:25:06.156909Z",
     "iopub.status.busy": "2023-07-03T05:25:06.156506Z",
     "iopub.status.idle": "2023-07-03T05:25:06.851934Z",
     "shell.execute_reply": "2023-07-03T05:25:06.850620Z"
    },
    "papermill": {
     "duration": 0.767722,
     "end_time": "2023-07-03T05:25:06.854373",
     "exception": false,
     "start_time": "2023-07-03T05:25:06.086651",
     "status": "completed"
    },
    "tags": []
   },
   "outputs": [
    {
     "name": "stdout",
     "output_type": "stream",
     "text": [
      "313/313 - 1s - loss: 0.3520 - accuracy: 0.8782 - 587ms/epoch - 2ms/step\n",
      "\n",
      "Test accuracy: 0.8781999945640564\n"
     ]
    }
   ],
   "source": [
    "test_loss, test_acc = model.evaluate(test_images,  test_labels, verbose=2)\n",
    "\n",
    "print('\\nTest accuracy:', test_acc)"
   ]
  },
  {
   "cell_type": "code",
   "execution_count": 18,
   "id": "f4d71ca7",
   "metadata": {
    "execution": {
     "iopub.execute_input": "2023-07-03T05:25:06.995646Z",
     "iopub.status.busy": "2023-07-03T05:25:06.994966Z",
     "iopub.status.idle": "2023-07-03T05:25:07.024481Z",
     "shell.execute_reply": "2023-07-03T05:25:07.023374Z"
    },
    "papermill": {
     "duration": 0.103725,
     "end_time": "2023-07-03T05:25:07.026870",
     "exception": false,
     "start_time": "2023-07-03T05:25:06.923145",
     "status": "completed"
    },
    "tags": []
   },
   "outputs": [],
   "source": [
    "probability_model=tf.keras.Sequential([model, \n",
    "                                         tf.keras.layers.Softmax()])"
   ]
  },
  {
   "cell_type": "code",
   "execution_count": 19,
   "id": "9e8f6473",
   "metadata": {
    "execution": {
     "iopub.execute_input": "2023-07-03T05:25:07.165873Z",
     "iopub.status.busy": "2023-07-03T05:25:07.165458Z",
     "iopub.status.idle": "2023-07-03T05:25:07.923567Z",
     "shell.execute_reply": "2023-07-03T05:25:07.922544Z"
    },
    "papermill": {
     "duration": 0.83051,
     "end_time": "2023-07-03T05:25:07.925977",
     "exception": false,
     "start_time": "2023-07-03T05:25:07.095467",
     "status": "completed"
    },
    "tags": []
   },
   "outputs": [
    {
     "name": "stdout",
     "output_type": "stream",
     "text": [
      "313/313 [==============================] - 1s 1ms/step\n"
     ]
    }
   ],
   "source": [
    "predictions=probability_model.predict(test_images)"
   ]
  },
  {
   "cell_type": "code",
   "execution_count": 20,
   "id": "7f20e00f",
   "metadata": {
    "execution": {
     "iopub.execute_input": "2023-07-03T05:25:08.068882Z",
     "iopub.status.busy": "2023-07-03T05:25:08.067686Z",
     "iopub.status.idle": "2023-07-03T05:25:08.075052Z",
     "shell.execute_reply": "2023-07-03T05:25:08.074162Z"
    },
    "papermill": {
     "duration": 0.080978,
     "end_time": "2023-07-03T05:25:08.077087",
     "exception": false,
     "start_time": "2023-07-03T05:25:07.996109",
     "status": "completed"
    },
    "tags": []
   },
   "outputs": [
    {
     "data": {
      "text/plain": [
       "array([[9.61627933e-09, 3.05568369e-13, 4.01274458e-10, ...,\n",
       "        4.73122345e-04, 6.66550773e-11, 9.99523222e-01],\n",
       "       [4.62363278e-05, 2.65187663e-11, 9.98551428e-01, ...,\n",
       "        4.86554836e-16, 1.73199267e-11, 8.67295500e-15],\n",
       "       [3.50490803e-10, 9.99999940e-01, 2.17622479e-15, ...,\n",
       "        1.06785356e-23, 2.39334296e-13, 1.23693339e-22],\n",
       "       ...,\n",
       "       [8.10611760e-04, 1.79767365e-08, 7.29579115e-05, ...,\n",
       "        9.88147377e-08, 9.95335221e-01, 9.88723858e-09],\n",
       "       [6.90591264e-08, 9.99911606e-01, 1.21762911e-09, ...,\n",
       "        2.06829643e-16, 7.81821754e-08, 1.02749319e-11],\n",
       "       [4.89843835e-04, 1.49763464e-05, 2.85605958e-04, ...,\n",
       "        3.65691558e-02, 1.39972568e-03, 1.34433445e-04]], dtype=float32)"
      ]
     },
     "execution_count": 20,
     "metadata": {},
     "output_type": "execute_result"
    }
   ],
   "source": [
    "predictions"
   ]
  },
  {
   "cell_type": "code",
   "execution_count": 21,
   "id": "640bbb97",
   "metadata": {
    "execution": {
     "iopub.execute_input": "2023-07-03T05:25:08.217009Z",
     "iopub.status.busy": "2023-07-03T05:25:08.216616Z",
     "iopub.status.idle": "2023-07-03T05:25:08.221480Z",
     "shell.execute_reply": "2023-07-03T05:25:08.220260Z"
    },
    "papermill": {
     "duration": 0.077139,
     "end_time": "2023-07-03T05:25:08.223529",
     "exception": false,
     "start_time": "2023-07-03T05:25:08.146390",
     "status": "completed"
    },
    "tags": []
   },
   "outputs": [],
   "source": [
    "#Predctns=model.predict(test_images)"
   ]
  },
  {
   "cell_type": "code",
   "execution_count": 22,
   "id": "850034b3",
   "metadata": {
    "execution": {
     "iopub.execute_input": "2023-07-03T05:25:08.363950Z",
     "iopub.status.busy": "2023-07-03T05:25:08.363560Z",
     "iopub.status.idle": "2023-07-03T05:25:08.368278Z",
     "shell.execute_reply": "2023-07-03T05:25:08.367207Z"
    },
    "papermill": {
     "duration": 0.078168,
     "end_time": "2023-07-03T05:25:08.370498",
     "exception": false,
     "start_time": "2023-07-03T05:25:08.292330",
     "status": "completed"
    },
    "tags": []
   },
   "outputs": [],
   "source": [
    "#Predctns"
   ]
  },
  {
   "cell_type": "code",
   "execution_count": 23,
   "id": "452cd61e",
   "metadata": {
    "execution": {
     "iopub.execute_input": "2023-07-03T05:25:08.512792Z",
     "iopub.status.busy": "2023-07-03T05:25:08.511664Z",
     "iopub.status.idle": "2023-07-03T05:25:08.518923Z",
     "shell.execute_reply": "2023-07-03T05:25:08.517963Z"
    },
    "papermill": {
     "duration": 0.080548,
     "end_time": "2023-07-03T05:25:08.521087",
     "exception": false,
     "start_time": "2023-07-03T05:25:08.440539",
     "status": "completed"
    },
    "tags": []
   },
   "outputs": [
    {
     "data": {
      "text/plain": [
       "array([9.6162793e-09, 3.0556837e-13, 4.0127446e-10, 4.3884713e-15,\n",
       "       1.5095887e-10, 3.5373062e-06, 1.3788924e-09, 4.7312235e-04,\n",
       "       6.6655077e-11, 9.9952322e-01], dtype=float32)"
      ]
     },
     "execution_count": 23,
     "metadata": {},
     "output_type": "execute_result"
    }
   ],
   "source": [
    "predictions[0]"
   ]
  },
  {
   "cell_type": "code",
   "execution_count": 24,
   "id": "d23da186",
   "metadata": {
    "execution": {
     "iopub.execute_input": "2023-07-03T05:25:08.663308Z",
     "iopub.status.busy": "2023-07-03T05:25:08.662094Z",
     "iopub.status.idle": "2023-07-03T05:25:08.668613Z",
     "shell.execute_reply": "2023-07-03T05:25:08.667600Z"
    },
    "papermill": {
     "duration": 0.079749,
     "end_time": "2023-07-03T05:25:08.670747",
     "exception": false,
     "start_time": "2023-07-03T05:25:08.590998",
     "status": "completed"
    },
    "tags": []
   },
   "outputs": [
    {
     "data": {
      "text/plain": [
       "9"
      ]
     },
     "execution_count": 24,
     "metadata": {},
     "output_type": "execute_result"
    }
   ],
   "source": [
    "np.argmax(predictions[0])"
   ]
  },
  {
   "cell_type": "code",
   "execution_count": 25,
   "id": "3eaafde9",
   "metadata": {
    "execution": {
     "iopub.execute_input": "2023-07-03T05:25:08.811831Z",
     "iopub.status.busy": "2023-07-03T05:25:08.811461Z",
     "iopub.status.idle": "2023-07-03T05:25:08.816928Z",
     "shell.execute_reply": "2023-07-03T05:25:08.816090Z"
    },
    "papermill": {
     "duration": 0.078648,
     "end_time": "2023-07-03T05:25:08.819147",
     "exception": false,
     "start_time": "2023-07-03T05:25:08.740499",
     "status": "completed"
    },
    "tags": []
   },
   "outputs": [],
   "source": [
    "#reshaped_images = np.reshape(test_images, (test_images.shape[0], 28 * 28))\n",
    "\n",
    "#pred = probability_model.predict(reshaped_images[0])"
   ]
  },
  {
   "cell_type": "code",
   "execution_count": 26,
   "id": "92d844f2",
   "metadata": {
    "execution": {
     "iopub.execute_input": "2023-07-03T05:25:08.959229Z",
     "iopub.status.busy": "2023-07-03T05:25:08.958836Z",
     "iopub.status.idle": "2023-07-03T05:25:08.965135Z",
     "shell.execute_reply": "2023-07-03T05:25:08.964243Z"
    },
    "papermill": {
     "duration": 0.078543,
     "end_time": "2023-07-03T05:25:08.967077",
     "exception": false,
     "start_time": "2023-07-03T05:25:08.888534",
     "status": "completed"
    },
    "tags": []
   },
   "outputs": [
    {
     "data": {
      "text/plain": [
       "9"
      ]
     },
     "execution_count": 26,
     "metadata": {},
     "output_type": "execute_result"
    }
   ],
   "source": [
    "test_labels[0]"
   ]
  },
  {
   "cell_type": "code",
   "execution_count": 27,
   "id": "ee8b61d6",
   "metadata": {
    "execution": {
     "iopub.execute_input": "2023-07-03T05:25:09.109580Z",
     "iopub.status.busy": "2023-07-03T05:25:09.109188Z",
     "iopub.status.idle": "2023-07-03T05:25:09.117326Z",
     "shell.execute_reply": "2023-07-03T05:25:09.116526Z"
    },
    "papermill": {
     "duration": 0.080525,
     "end_time": "2023-07-03T05:25:09.119055",
     "exception": false,
     "start_time": "2023-07-03T05:25:09.038530",
     "status": "completed"
    },
    "tags": []
   },
   "outputs": [],
   "source": [
    "def plot_image(i, predictions_array, true_label, img):\n",
    "  true_label, img = true_label[i], img[i]\n",
    "  plt.grid(False)\n",
    "  plt.xticks([])\n",
    "  plt.yticks([])\n",
    "\n",
    "  plt.imshow(img, cmap=plt.cm.binary)\n",
    "\n",
    "  predicted_label = np.argmax(predictions_array)\n",
    "  if predicted_label == true_label:\n",
    "    color = 'blue'\n",
    "  else:\n",
    "    color = 'red'\n",
    "\n",
    "  plt.xlabel(\"{} {:2.0f}% ({})\".format(class_names[predicted_label],\n",
    "                                100*np.max(predictions_array),\n",
    "                                class_names[true_label]),\n",
    "                                color=color)\n",
    "\n",
    "def plot_value_array(i, predictions_array, true_label):\n",
    "  true_label = true_label[i]\n",
    "  plt.grid(False)\n",
    "  plt.xticks(range(10))\n",
    "  plt.yticks([])\n",
    "  thisplot = plt.bar(range(10), predictions_array, color=\"#777777\")\n",
    "  plt.ylim([0, 1])\n",
    "  predicted_label = np.argmax(predictions_array)\n",
    "\n",
    "  thisplot[predicted_label].set_color('red')\n",
    "  thisplot[true_label].set_color('blue')"
   ]
  },
  {
   "cell_type": "code",
   "execution_count": 28,
   "id": "eb89f539",
   "metadata": {
    "execution": {
     "iopub.execute_input": "2023-07-03T05:25:09.260600Z",
     "iopub.status.busy": "2023-07-03T05:25:09.259771Z",
     "iopub.status.idle": "2023-07-03T05:25:09.474295Z",
     "shell.execute_reply": "2023-07-03T05:25:09.472886Z"
    },
    "papermill": {
     "duration": 0.288388,
     "end_time": "2023-07-03T05:25:09.477661",
     "exception": false,
     "start_time": "2023-07-03T05:25:09.189273",
     "status": "completed"
    },
    "tags": []
   },
   "outputs": [
    {
     "data": {
      "image/png": "[encoded data removed]",
      "text/plain": [
       "<Figure size 600x300 with 2 Axes>"
      ]
     },
     "metadata": {},
     "output_type": "display_data"
    }
   ],
   "source": [
    "i = 0\n",
    "plt.figure(figsize=(6,3))\n",
    "plt.subplot(1,2,1)\n",
    "plot_image(i, predictions[i], test_labels, test_images)\n",
    "plt.subplot(1,2,2)\n",
    "plot_value_array(i, predictions[i],  test_labels)\n",
    "plt.show()"
   ]
  },
  {
   "cell_type": "code",
   "execution_count": 29,
   "id": "ad81134f",
   "metadata": {
    "execution": {
     "iopub.execute_input": "2023-07-03T05:25:09.634613Z",
     "iopub.status.busy": "2023-07-03T05:25:09.633948Z",
     "iopub.status.idle": "2023-07-03T05:25:09.821998Z",
     "shell.execute_reply": "2023-07-03T05:25:09.820870Z"
    },
    "papermill": {
     "duration": 0.261775,
     "end_time": "2023-07-03T05:25:09.824827",
     "exception": false,
     "start_time": "2023-07-03T05:25:09.563052",
     "status": "completed"
    },
    "tags": []
   },
   "outputs": [
    {
     "data": {
      "image/png": "[encoded data removed]",
      "text/plain": [
       "<Figure size 600x300 with 2 Axes>"
      ]
     },
     "metadata": {},
     "output_type": "display_data"
    }
   ],
   "source": [
    "i = 12\n",
    "plt.figure(figsize=(6,3))\n",
    "plt.subplot(1,2,1)\n",
    "plot_image(i, predictions[i], test_labels, test_images)\n",
    "plt.subplot(1,2,2)\n",
    "plot_value_array(i, predictions[i],  test_labels)\n",
    "plt.show()"
   ]
  },
  {
   "cell_type": "code",
   "execution_count": 30,
   "id": "67c18708",
   "metadata": {
    "execution": {
     "iopub.execute_input": "2023-07-03T05:25:09.990626Z",
     "iopub.status.busy": "2023-07-03T05:25:09.989967Z",
     "iopub.status.idle": "2023-07-03T05:25:12.817606Z",
     "shell.execute_reply": "2023-07-03T05:25:12.816397Z"
    },
    "papermill": {
     "duration": 2.903843,
     "end_time": "2023-07-03T05:25:12.820120",
     "exception": false,
     "start_time": "2023-07-03T05:25:09.916277",
     "status": "completed"
    },
    "tags": []
   },
   "outputs": [
    {
     "data": {
      "image/png": "[encoded data removed]",
      "text/plain": [
       "<Figure size 1200x1000 with 30 Axes>"
      ]
     },
     "metadata": {},
     "output_type": "display_data"
    }
   ],
   "source": [
    "num_rows = 5\n",
    "num_cols = 3\n",
    "num_images = num_rows*num_cols\n",
    "plt.figure(figsize=(2*2*num_cols, 2*num_rows))\n",
    "for i in range(num_images):\n",
    "  plt.subplot(num_rows, 2*num_cols, 2*i+1)\n",
    "  plot_image(i, predictions[i], test_labels, test_images)\n",
    "  plt.subplot(num_rows, 2*num_cols, 2*i+2)\n",
    "  plot_value_array(i, predictions[i], test_labels)\n",
    "plt.tight_layout()\n",
    "plt.show()"
   ]
  },
  {
   "cell_type": "code",
   "execution_count": 31,
   "id": "33e238b3",
   "metadata": {
    "execution": {
     "iopub.execute_input": "2023-07-03T05:25:12.964837Z",
     "iopub.status.busy": "2023-07-03T05:25:12.964454Z",
     "iopub.status.idle": "2023-07-03T05:25:12.970603Z",
     "shell.execute_reply": "2023-07-03T05:25:12.969146Z"
    },
    "papermill": {
     "duration": 0.081399,
     "end_time": "2023-07-03T05:25:12.973209",
     "exception": false,
     "start_time": "2023-07-03T05:25:12.891810",
     "status": "completed"
    },
    "tags": []
   },
   "outputs": [
    {
     "name": "stdout",
     "output_type": "stream",
     "text": [
      "(28, 28)\n"
     ]
    }
   ],
   "source": [
    "img = test_images[1]\n",
    "\n",
    "print(img.shape)"
   ]
  },
  {
   "cell_type": "code",
   "execution_count": 32,
   "id": "f94c9fc4",
   "metadata": {
    "execution": {
     "iopub.execute_input": "2023-07-03T05:25:13.121598Z",
     "iopub.status.busy": "2023-07-03T05:25:13.120586Z",
     "iopub.status.idle": "2023-07-03T05:25:13.138346Z",
     "shell.execute_reply": "2023-07-03T05:25:13.137329Z"
    },
    "papermill": {
     "duration": 0.092709,
     "end_time": "2023-07-03T05:25:13.140479",
     "exception": false,
     "start_time": "2023-07-03T05:25:13.047770",
     "status": "completed"
    },
    "tags": []
   },
   "outputs": [
    {
     "data": {
      "text/plain": [
       "array([[0.        , 0.        , 0.        , 0.        , 0.        ,\n",
       "        0.        , 0.        , 0.        , 0.        , 0.        ,\n",
       "        0.05098039, 0.2627451 , 0.        , 0.        , 0.        ,\n",
       "        0.        , 0.19607843, 0.14901961, 0.        , 0.        ,\n",
       "        0.        , 0.        , 0.        , 0.        , 0.        ,\n",
       "        0.        , 0.        , 0.        ],\n",
       "       [0.        , 0.        , 0.        , 0.        , 0.        ,\n",
       "        0.        , 0.        , 0.03137255, 0.47058824, 0.81960784,\n",
       "        0.88627451, 0.96862745, 0.92941176, 1.        , 1.        ,\n",
       "        1.        , 0.96862745, 0.93333333, 0.92156863, 0.6745098 ,\n",
       "        0.28235294, 0.        , 0.        , 0.        , 0.        ,\n",
       "        0.        , 0.        , 0.        ],\n",
       "       [0.        , 0.        , 0.        , 0.        , 0.        ,\n",
       "        0.        , 0.5372549 , 0.9372549 , 0.98823529, 0.95294118,\n",
       "        0.91764706, 0.89803922, 0.93333333, 0.95686275, 0.96470588,\n",
       "        0.94117647, 0.90196078, 0.90980392, 0.9372549 , 0.97254902,\n",
       "        0.98431373, 0.76078431, 0.        , 0.        , 0.        ,\n",
       "        0.        , 0.        , 0.        ],\n",
       "       [0.        , 0.        , 0.        , 0.        , 0.        ,\n",
       "        0.4       , 1.        , 0.90588235, 0.89411765, 0.89019608,\n",
       "        0.89411765, 0.91372549, 0.90196078, 0.90196078, 0.89803922,\n",
       "        0.89411765, 0.90980392, 0.90980392, 0.90588235, 0.89019608,\n",
       "        0.87843137, 0.98823529, 0.70196078, 0.        , 0.        ,\n",
       "        0.        , 0.        , 0.        ],\n",
       "       [0.        , 0.        , 0.        , 0.        , 0.        ,\n",
       "        0.91372549, 0.94509804, 0.89803922, 0.90588235, 1.        ,\n",
       "        1.        , 0.93333333, 0.90588235, 0.89019608, 0.93333333,\n",
       "        0.96470588, 0.89411765, 0.90196078, 0.89019608, 0.91764706,\n",
       "        0.92156863, 0.89803922, 0.94509804, 0.07843137, 0.        ,\n",
       "        0.        , 0.        , 0.        ],\n",
       "       [0.        , 0.        , 0.        , 0.        , 0.        ,\n",
       "        0.97254902, 0.94509804, 0.90588235, 1.        , 0.58431373,\n",
       "        0.18431373, 0.98823529, 0.89411765, 1.        , 0.94901961,\n",
       "        0.84705882, 0.93333333, 0.90980392, 1.        , 0.89411765,\n",
       "        0.8627451 , 0.91764706, 0.98039216, 0.21176471, 0.        ,\n",
       "        0.        , 0.        , 0.        ],\n",
       "       [0.        , 0.        , 0.        , 0.        , 0.        ,\n",
       "        1.        , 0.94117647, 0.90980392, 1.        , 0.05882353,\n",
       "        0.        , 1.        , 0.92941176, 0.74901961, 0.        ,\n",
       "        0.        , 0.83921569, 1.        , 0.05098039, 0.48235294,\n",
       "        1.        , 0.91764706, 0.98823529, 0.44705882, 0.        ,\n",
       "        0.        , 0.        , 0.        ],\n",
       "       [0.        , 0.        , 0.        , 0.        , 0.02352941,\n",
       "        1.        , 0.93333333, 0.9372549 , 1.        , 0.69411765,\n",
       "        0.        , 1.        , 1.        , 0.        , 0.50980392,\n",
       "        0.45490196, 0.18431373, 0.25490196, 0.16862745, 0.14509804,\n",
       "        1.        , 0.9254902 , 0.97647059, 0.63529412, 0.        ,\n",
       "        0.        , 0.        , 0.        ],\n",
       "       [0.        , 0.        , 0.        , 0.        , 0.1254902 ,\n",
       "        1.        , 0.9254902 , 0.96078431, 1.        , 0.8       ,\n",
       "        0.        , 1.        , 0.32941176, 0.        , 0.14509804,\n",
       "        0.10980392, 0.12156863, 0.        , 0.09803922, 0.05098039,\n",
       "        1.        , 0.9254902 , 0.97647059, 0.78039216, 0.        ,\n",
       "        0.        , 0.        , 0.        ],\n",
       "       [0.        , 0.        , 0.        , 0.        , 0.20784314,\n",
       "        1.        , 0.9254902 , 0.98039216, 0.98039216, 0.90588235,\n",
       "        0.00784314, 1.        , 0.08235294, 0.        , 0.86666667,\n",
       "        1.        , 0.9254902 , 0.21176471, 0.96078431, 0.77647059,\n",
       "        0.95294118, 0.93333333, 0.96078431, 0.8745098 , 0.        ,\n",
       "        0.        , 0.        , 0.        ],\n",
       "       [0.        , 0.        , 0.        , 0.        , 0.31372549,\n",
       "        1.        , 0.92941176, 0.98039216, 0.94117647, 1.        ,\n",
       "        0.        , 0.        , 0.15294118, 0.61568627, 0.        ,\n",
       "        0.        , 0.84313725, 0.36862745, 0.07843137, 0.49411765,\n",
       "        1.        , 0.92941176, 0.9372549 , 0.98039216, 0.        ,\n",
       "        0.        , 0.        , 0.        ],\n",
       "       [0.        , 0.        , 0.        , 0.        , 0.39607843,\n",
       "        1.        , 0.92156863, 0.99215686, 0.95686275, 0.95294118,\n",
       "        0.52156863, 0.54117647, 0.81568627, 1.        , 0.78823529,\n",
       "        0.83921569, 1.        , 0.90196078, 0.02745098, 0.68235294,\n",
       "        1.        , 0.94117647, 0.93333333, 1.        , 0.        ,\n",
       "        0.        , 0.        , 0.        ],\n",
       "       [0.        , 0.        , 0.        , 0.        , 0.49411765,\n",
       "        1.        , 0.91372549, 1.        , 0.97254902, 0.91372549,\n",
       "        1.        , 1.        , 0.94117647, 0.90980392, 0.95294118,\n",
       "        0.95294118, 0.90588235, 0.98431373, 1.        , 1.        ,\n",
       "        0.99607843, 0.95294118, 0.93333333, 1.        , 0.01176471,\n",
       "        0.        , 0.        , 0.        ],\n",
       "       [0.        , 0.        , 0.        , 0.        , 0.57647059,\n",
       "        1.        , 0.91372549, 0.97647059, 0.70980392, 0.95294118,\n",
       "        0.89019608, 0.87843137, 0.90196078, 0.91764706, 0.90196078,\n",
       "        0.90196078, 0.92156863, 0.89411765, 0.92156863, 0.87058824,\n",
       "        0.81176471, 1.        , 0.9254902 , 1.        , 0.1372549 ,\n",
       "        0.        , 0.        , 0.        ],\n",
       "       [0.        , 0.        , 0.        , 0.        , 0.63921569,\n",
       "        1.        , 0.96078431, 0.86666667, 0.3372549 , 1.        ,\n",
       "        0.91372549, 0.91372549, 0.92156863, 0.9254902 , 0.91764706,\n",
       "        0.91764706, 0.91764706, 0.90980392, 0.94901961, 0.90588235,\n",
       "        0.49019608, 1.        , 0.9254902 , 1.        , 0.21568627,\n",
       "        0.        , 0.        , 0.        ],\n",
       "       [0.        , 0.        , 0.        , 0.        , 0.70980392,\n",
       "        0.99607843, 1.        , 0.78431373, 0.27058824, 1.        ,\n",
       "        0.89411765, 0.90980392, 0.91764706, 0.92156863, 0.91764706,\n",
       "        0.91764706, 0.91372549, 0.92156863, 0.94509804, 0.92941176,\n",
       "        0.2745098 , 1.        , 0.92156863, 0.96470588, 0.22352941,\n",
       "        0.        , 0.        , 0.        ],\n",
       "       [0.        , 0.        , 0.        , 0.        , 0.77254902,\n",
       "        0.96862745, 1.        , 0.7372549 , 0.43137255, 1.        ,\n",
       "        0.87843137, 0.91372549, 0.91764706, 0.91764706, 0.91764706,\n",
       "        0.91764706, 0.91764706, 0.91764706, 0.94117647, 0.99215686,\n",
       "        0.27058824, 1.        , 0.9254902 , 0.97254902, 0.30196078,\n",
       "        0.        , 0.        , 0.        ],\n",
       "       [0.        , 0.        , 0.        , 0.        , 0.78431373,\n",
       "        0.96470588, 1.        , 0.58431373, 0.56862745, 1.        ,\n",
       "        0.8745098 , 0.92156863, 0.91764706, 0.92156863, 0.92156863,\n",
       "        0.92156863, 0.91764706, 0.92941176, 0.91372549, 1.        ,\n",
       "        0.18431373, 1.        , 0.9372549 , 0.97647059, 0.38431373,\n",
       "        0.        , 0.        , 0.        ],\n",
       "       [0.        , 0.        , 0.        , 0.        , 0.8       ,\n",
       "        0.95294118, 1.        , 0.43529412, 0.67843137, 1.        ,\n",
       "        0.89019608, 0.92156863, 0.92156863, 0.9254902 , 0.92156863,\n",
       "        0.92156863, 0.92156863, 0.9372549 , 0.89803922, 1.        ,\n",
       "        0.0745098 , 0.89019608, 0.96470588, 0.97647059, 0.43137255,\n",
       "        0.        , 0.        , 0.        ],\n",
       "       [0.        , 0.        , 0.        , 0.        , 0.76862745,\n",
       "        0.94117647, 1.        , 0.42745098, 0.83529412, 0.98039216,\n",
       "        0.89803922, 0.92156863, 0.92156863, 0.9254902 , 0.92156863,\n",
       "        0.92941176, 0.9254902 , 0.92941176, 0.88627451, 1.        ,\n",
       "        0.21568627, 0.79607843, 0.98431373, 0.96078431, 0.47058824,\n",
       "        0.        , 0.        , 0.        ],\n",
       "       [0.        , 0.        , 0.        , 0.        , 0.75294118,\n",
       "        0.95294118, 1.        , 0.44705882, 0.90980392, 0.94117647,\n",
       "        0.90980392, 0.92156863, 0.92156863, 0.9254902 , 0.91764706,\n",
       "        0.92941176, 0.9254902 , 0.92156863, 0.89803922, 1.        ,\n",
       "        0.5254902 , 0.67058824, 0.98823529, 0.95686275, 0.5372549 ,\n",
       "        0.        , 0.        , 0.        ],\n",
       "       [0.        , 0.        , 0.        , 0.        , 0.74117647,\n",
       "        0.98431373, 1.        , 0.60392157, 0.93333333, 0.91372549,\n",
       "        0.9254902 , 0.91764706, 0.92156863, 0.9254902 , 0.92156863,\n",
       "        0.93333333, 0.9254902 , 0.92156863, 0.90980392, 1.        ,\n",
       "        0.65098039, 0.49019608, 1.        , 0.95294118, 0.55686275,\n",
       "        0.        , 0.        , 0.        ],\n",
       "       [0.        , 0.        , 0.        , 0.        , 0.71764706,\n",
       "        0.98823529, 1.        , 0.67058824, 0.96862745, 0.90980392,\n",
       "        0.91764706, 0.91764706, 0.91372549, 0.91372549, 0.90980392,\n",
       "        0.91764706, 0.91372549, 0.91764706, 0.91372549, 0.94117647,\n",
       "        0.8745098 , 0.50196078, 1.        , 0.94901961, 0.59215686,\n",
       "        0.        , 0.        , 0.        ],\n",
       "       [0.        , 0.        , 0.        , 0.        , 0.69803922,\n",
       "        0.95294118, 1.        , 0.22352941, 0.93333333, 0.94509804,\n",
       "        0.93333333, 0.93333333, 0.93333333, 0.92941176, 0.9254902 ,\n",
       "        0.92941176, 0.92941176, 0.94117647, 0.92941176, 0.99607843,\n",
       "        0.69019608, 0.20392157, 1.        , 0.9372549 , 0.61568627,\n",
       "        0.        , 0.        , 0.        ],\n",
       "       [0.        , 0.        , 0.        , 0.        , 0.7372549 ,\n",
       "        0.94117647, 0.98039216, 0.24313725, 0.85490196, 1.        ,\n",
       "        0.8627451 , 0.87058824, 0.87058824, 0.87058824, 0.8745098 ,\n",
       "        0.8745098 , 0.87843137, 0.87058824, 0.85490196, 1.        ,\n",
       "        0.60392157, 0.1254902 , 1.        , 0.9254902 , 0.7372549 ,\n",
       "        0.        , 0.        , 0.        ],\n",
       "       [0.        , 0.        , 0.        , 0.        , 0.50980392,\n",
       "        0.96078431, 0.94901961, 0.09411765, 0.        , 0.        ,\n",
       "        0.        , 0.        , 0.        , 0.        , 0.        ,\n",
       "        0.        , 0.        , 0.        , 0.        , 0.        ,\n",
       "        0.        , 0.13333333, 0.94901961, 0.95686275, 0.52941176,\n",
       "        0.        , 0.        , 0.        ],\n",
       "       [0.        , 0.        , 0.        , 0.        , 0.29803922,\n",
       "        1.        , 0.97647059, 0.08627451, 0.        , 0.        ,\n",
       "        0.        , 0.        , 0.        , 0.        , 0.        ,\n",
       "        0.        , 0.        , 0.        , 0.        , 0.        ,\n",
       "        0.        , 0.15294118, 0.97647059, 1.        , 0.48235294,\n",
       "        0.        , 0.        , 0.        ],\n",
       "       [0.        , 0.        , 0.        , 0.        , 0.19215686,\n",
       "        0.80392157, 0.77254902, 0.04313725, 0.        , 0.01568627,\n",
       "        0.00392157, 0.00784314, 0.00784314, 0.00784314, 0.00784314,\n",
       "        0.00784314, 0.00784314, 0.00784314, 0.00784314, 0.01176471,\n",
       "        0.        , 0.01176471, 0.68235294, 0.74117647, 0.2627451 ,\n",
       "        0.        , 0.        , 0.        ]])"
      ]
     },
     "execution_count": 32,
     "metadata": {},
     "output_type": "execute_result"
    }
   ],
   "source": [
    "img"
   ]
  },
  {
   "cell_type": "code",
   "execution_count": 33,
   "id": "64a3e0d6",
   "metadata": {
    "execution": {
     "iopub.execute_input": "2023-07-03T05:25:13.285647Z",
     "iopub.status.busy": "2023-07-03T05:25:13.284781Z",
     "iopub.status.idle": "2023-07-03T05:25:13.290851Z",
     "shell.execute_reply": "2023-07-03T05:25:13.289737Z"
    },
    "papermill": {
     "duration": 0.081036,
     "end_time": "2023-07-03T05:25:13.293006",
     "exception": false,
     "start_time": "2023-07-03T05:25:13.211970",
     "status": "completed"
    },
    "tags": []
   },
   "outputs": [
    {
     "name": "stdout",
     "output_type": "stream",
     "text": [
      "(1, 28, 28)\n"
     ]
    }
   ],
   "source": [
    "img = (np.expand_dims(img,0))\n",
    "\n",
    "print(img.shape)"
   ]
  },
  {
   "cell_type": "code",
   "execution_count": 34,
   "id": "ae6273cc",
   "metadata": {
    "execution": {
     "iopub.execute_input": "2023-07-03T05:25:13.441639Z",
     "iopub.status.busy": "2023-07-03T05:25:13.441248Z",
     "iopub.status.idle": "2023-07-03T05:25:13.453190Z",
     "shell.execute_reply": "2023-07-03T05:25:13.452332Z"
    },
    "papermill": {
     "duration": 0.087739,
     "end_time": "2023-07-03T05:25:13.455462",
     "exception": false,
     "start_time": "2023-07-03T05:25:13.367723",
     "status": "completed"
    },
    "tags": []
   },
   "outputs": [
    {
     "data": {
      "text/plain": [
       "array([[[0.        , 0.        , 0.        , 0.        , 0.        ,\n",
       "         0.        , 0.        , 0.        , 0.        , 0.        ,\n",
       "         0.05098039, 0.2627451 , 0.        , 0.        , 0.        ,\n",
       "         0.        , 0.19607843, 0.14901961, 0.        , 0.        ,\n",
       "         0.        , 0.        , 0.        , 0.        , 0.        ,\n",
       "         0.        , 0.        , 0.        ],\n",
       "        [0.        , 0.        , 0.        , 0.        , 0.        ,\n",
       "         0.        , 0.        , 0.03137255, 0.47058824, 0.81960784,\n",
       "         0.88627451, 0.96862745, 0.92941176, 1.        , 1.        ,\n",
       "         1.        , 0.96862745, 0.93333333, 0.92156863, 0.6745098 ,\n",
       "         0.28235294, 0.        , 0.        , 0.        , 0.        ,\n",
       "         0.        , 0.        , 0.        ],\n",
       "        [0.        , 0.        , 0.        , 0.        , 0.        ,\n",
       "         0.        , 0.5372549 , 0.9372549 , 0.98823529, 0.95294118,\n",
       "         0.91764706, 0.89803922, 0.93333333, 0.95686275, 0.96470588,\n",
       "         0.94117647, 0.90196078, 0.90980392, 0.9372549 , 0.97254902,\n",
       "         0.98431373, 0.76078431, 0.        , 0.        , 0.        ,\n",
       "         0.        , 0.        , 0.        ],\n",
       "        [0.        , 0.        , 0.        , 0.        , 0.        ,\n",
       "         0.4       , 1.        , 0.90588235, 0.89411765, 0.89019608,\n",
       "         0.89411765, 0.91372549, 0.90196078, 0.90196078, 0.89803922,\n",
       "         0.89411765, 0.90980392, 0.90980392, 0.90588235, 0.89019608,\n",
       "         0.87843137, 0.98823529, 0.70196078, 0.        , 0.        ,\n",
       "         0.        , 0.        , 0.        ],\n",
       "        [0.        , 0.        , 0.        , 0.        , 0.        ,\n",
       "         0.91372549, 0.94509804, 0.89803922, 0.90588235, 1.        ,\n",
       "         1.        , 0.93333333, 0.90588235, 0.89019608, 0.93333333,\n",
       "         0.96470588, 0.89411765, 0.90196078, 0.89019608, 0.91764706,\n",
       "         0.92156863, 0.89803922, 0.94509804, 0.07843137, 0.        ,\n",
       "         0.        , 0.        , 0.        ],\n",
       "        [0.        , 0.        , 0.        , 0.        , 0.        ,\n",
       "         0.97254902, 0.94509804, 0.90588235, 1.        , 0.58431373,\n",
       "         0.18431373, 0.98823529, 0.89411765, 1.        , 0.94901961,\n",
       "         0.84705882, 0.93333333, 0.90980392, 1.        , 0.89411765,\n",
       "         0.8627451 , 0.91764706, 0.98039216, 0.21176471, 0.        ,\n",
       "         0.        , 0.        , 0.        ],\n",
       "        [0.        , 0.        , 0.        , 0.        , 0.        ,\n",
       "         1.        , 0.94117647, 0.90980392, 1.        , 0.05882353,\n",
       "         0.        , 1.        , 0.92941176, 0.74901961, 0.        ,\n",
       "         0.        , 0.83921569, 1.        , 0.05098039, 0.48235294,\n",
       "         1.        , 0.91764706, 0.98823529, 0.44705882, 0.        ,\n",
       "         0.        , 0.        , 0.        ],\n",
       "        [0.        , 0.        , 0.        , 0.        , 0.02352941,\n",
       "         1.        , 0.93333333, 0.9372549 , 1.        , 0.69411765,\n",
       "         0.        , 1.        , 1.        , 0.        , 0.50980392,\n",
       "         0.45490196, 0.18431373, 0.25490196, 0.16862745, 0.14509804,\n",
       "         1.        , 0.9254902 , 0.97647059, 0.63529412, 0.        ,\n",
       "         0.        , 0.        , 0.        ],\n",
       "        [0.        , 0.        , 0.        , 0.        , 0.1254902 ,\n",
       "         1.        , 0.9254902 , 0.96078431, 1.        , 0.8       ,\n",
       "         0.        , 1.        , 0.32941176, 0.        , 0.14509804,\n",
       "         0.10980392, 0.12156863, 0.        , 0.09803922, 0.05098039,\n",
       "         1.        , 0.9254902 , 0.97647059, 0.78039216, 0.        ,\n",
       "         0.        , 0.        , 0.        ],\n",
       "        [0.        , 0.        , 0.        , 0.        , 0.20784314,\n",
       "         1.        , 0.9254902 , 0.98039216, 0.98039216, 0.90588235,\n",
       "         0.00784314, 1.        , 0.08235294, 0.        , 0.86666667,\n",
       "         1.        , 0.9254902 , 0.21176471, 0.96078431, 0.77647059,\n",
       "         0.95294118, 0.93333333, 0.96078431, 0.8745098 , 0.        ,\n",
       "         0.        , 0.        , 0.        ],\n",
       "        [0.        , 0.        , 0.        , 0.        , 0.31372549,\n",
       "         1.        , 0.92941176, 0.98039216, 0.94117647, 1.        ,\n",
       "         0.        , 0.        , 0.15294118, 0.61568627, 0.        ,\n",
       "         0.        , 0.84313725, 0.36862745, 0.07843137, 0.49411765,\n",
       "         1.        , 0.92941176, 0.9372549 , 0.98039216, 0.        ,\n",
       "         0.        , 0.        , 0.        ],\n",
       "        [0.        , 0.        , 0.        , 0.        , 0.39607843,\n",
       "         1.        , 0.92156863, 0.99215686, 0.95686275, 0.95294118,\n",
       "         0.52156863, 0.54117647, 0.81568627, 1.        , 0.78823529,\n",
       "         0.83921569, 1.        , 0.90196078, 0.02745098, 0.68235294,\n",
       "         1.        , 0.94117647, 0.93333333, 1.        , 0.        ,\n",
       "         0.        , 0.        , 0.        ],\n",
       "        [0.        , 0.        , 0.        , 0.        , 0.49411765,\n",
       "         1.        , 0.91372549, 1.        , 0.97254902, 0.91372549,\n",
       "         1.        , 1.        , 0.94117647, 0.90980392, 0.95294118,\n",
       "         0.95294118, 0.90588235, 0.98431373, 1.        , 1.        ,\n",
       "         0.99607843, 0.95294118, 0.93333333, 1.        , 0.01176471,\n",
       "         0.        , 0.        , 0.        ],\n",
       "        [0.        , 0.        , 0.        , 0.        , 0.57647059,\n",
       "         1.        , 0.91372549, 0.97647059, 0.70980392, 0.95294118,\n",
       "         0.89019608, 0.87843137, 0.90196078, 0.91764706, 0.90196078,\n",
       "         0.90196078, 0.92156863, 0.89411765, 0.92156863, 0.87058824,\n",
       "         0.81176471, 1.        , 0.9254902 , 1.        , 0.1372549 ,\n",
       "         0.        , 0.        , 0.        ],\n",
       "        [0.        , 0.        , 0.        , 0.        , 0.63921569,\n",
       "         1.        , 0.96078431, 0.86666667, 0.3372549 , 1.        ,\n",
       "         0.91372549, 0.91372549, 0.92156863, 0.9254902 , 0.91764706,\n",
       "         0.91764706, 0.91764706, 0.90980392, 0.94901961, 0.90588235,\n",
       "         0.49019608, 1.        , 0.9254902 , 1.        , 0.21568627,\n",
       "         0.        , 0.        , 0.        ],\n",
       "        [0.        , 0.        , 0.        , 0.        , 0.70980392,\n",
       "         0.99607843, 1.        , 0.78431373, 0.27058824, 1.        ,\n",
       "         0.89411765, 0.90980392, 0.91764706, 0.92156863, 0.91764706,\n",
       "         0.91764706, 0.91372549, 0.92156863, 0.94509804, 0.92941176,\n",
       "         0.2745098 , 1.        , 0.92156863, 0.96470588, 0.22352941,\n",
       "         0.        , 0.        , 0.        ],\n",
       "        [0.        , 0.        , 0.        , 0.        , 0.77254902,\n",
       "         0.96862745, 1.        , 0.7372549 , 0.43137255, 1.        ,\n",
       "         0.87843137, 0.91372549, 0.91764706, 0.91764706, 0.91764706,\n",
       "         0.91764706, 0.91764706, 0.91764706, 0.94117647, 0.99215686,\n",
       "         0.27058824, 1.        , 0.9254902 , 0.97254902, 0.30196078,\n",
       "         0.        , 0.        , 0.        ],\n",
       "        [0.        , 0.        , 0.        , 0.        , 0.78431373,\n",
       "         0.96470588, 1.        , 0.58431373, 0.56862745, 1.        ,\n",
       "         0.8745098 , 0.92156863, 0.91764706, 0.92156863, 0.92156863,\n",
       "         0.92156863, 0.91764706, 0.92941176, 0.91372549, 1.        ,\n",
       "         0.18431373, 1.        , 0.9372549 , 0.97647059, 0.38431373,\n",
       "         0.        , 0.        , 0.        ],\n",
       "        [0.        , 0.        , 0.        , 0.        , 0.8       ,\n",
       "         0.95294118, 1.        , 0.43529412, 0.67843137, 1.        ,\n",
       "         0.89019608, 0.92156863, 0.92156863, 0.9254902 , 0.92156863,\n",
       "         0.92156863, 0.92156863, 0.9372549 , 0.89803922, 1.        ,\n",
       "         0.0745098 , 0.89019608, 0.96470588, 0.97647059, 0.43137255,\n",
       "         0.        , 0.        , 0.        ],\n",
       "        [0.        , 0.        , 0.        , 0.        , 0.76862745,\n",
       "         0.94117647, 1.        , 0.42745098, 0.83529412, 0.98039216,\n",
       "         0.89803922, 0.92156863, 0.92156863, 0.9254902 , 0.92156863,\n",
       "         0.92941176, 0.9254902 , 0.92941176, 0.88627451, 1.        ,\n",
       "         0.21568627, 0.79607843, 0.98431373, 0.96078431, 0.47058824,\n",
       "         0.        , 0.        , 0.        ],\n",
       "        [0.        , 0.        , 0.        , 0.        , 0.75294118,\n",
       "         0.95294118, 1.        , 0.44705882, 0.90980392, 0.94117647,\n",
       "         0.90980392, 0.92156863, 0.92156863, 0.9254902 , 0.91764706,\n",
       "         0.92941176, 0.9254902 , 0.92156863, 0.89803922, 1.        ,\n",
       "         0.5254902 , 0.67058824, 0.98823529, 0.95686275, 0.5372549 ,\n",
       "         0.        , 0.        , 0.        ],\n",
       "        [0.        , 0.        , 0.        , 0.        , 0.74117647,\n",
       "         0.98431373, 1.        , 0.60392157, 0.93333333, 0.91372549,\n",
       "         0.9254902 , 0.91764706, 0.92156863, 0.9254902 , 0.92156863,\n",
       "         0.93333333, 0.9254902 , 0.92156863, 0.90980392, 1.        ,\n",
       "         0.65098039, 0.49019608, 1.        , 0.95294118, 0.55686275,\n",
       "         0.        , 0.        , 0.        ],\n",
       "        [0.        , 0.        , 0.        , 0.        , 0.71764706,\n",
       "         0.98823529, 1.        , 0.67058824, 0.96862745, 0.90980392,\n",
       "         0.91764706, 0.91764706, 0.91372549, 0.91372549, 0.90980392,\n",
       "         0.91764706, 0.91372549, 0.91764706, 0.91372549, 0.94117647,\n",
       "         0.8745098 , 0.50196078, 1.        , 0.94901961, 0.59215686,\n",
       "         0.        , 0.        , 0.        ],\n",
       "        [0.        , 0.        , 0.        , 0.        , 0.69803922,\n",
       "         0.95294118, 1.        , 0.22352941, 0.93333333, 0.94509804,\n",
       "         0.93333333, 0.93333333, 0.93333333, 0.92941176, 0.9254902 ,\n",
       "         0.92941176, 0.92941176, 0.94117647, 0.92941176, 0.99607843,\n",
       "         0.69019608, 0.20392157, 1.        , 0.9372549 , 0.61568627,\n",
       "         0.        , 0.        , 0.        ],\n",
       "        [0.        , 0.        , 0.        , 0.        , 0.7372549 ,\n",
       "         0.94117647, 0.98039216, 0.24313725, 0.85490196, 1.        ,\n",
       "         0.8627451 , 0.87058824, 0.87058824, 0.87058824, 0.8745098 ,\n",
       "         0.8745098 , 0.87843137, 0.87058824, 0.85490196, 1.        ,\n",
       "         0.60392157, 0.1254902 , 1.        , 0.9254902 , 0.7372549 ,\n",
       "         0.        , 0.        , 0.        ],\n",
       "        [0.        , 0.        , 0.        , 0.        , 0.50980392,\n",
       "         0.96078431, 0.94901961, 0.09411765, 0.        , 0.        ,\n",
       "         0.        , 0.        , 0.        , 0.        , 0.        ,\n",
       "         0.        , 0.        , 0.        , 0.        , 0.        ,\n",
       "         0.        , 0.13333333, 0.94901961, 0.95686275, 0.52941176,\n",
       "         0.        , 0.        , 0.        ],\n",
       "        [0.        , 0.        , 0.        , 0.        , 0.29803922,\n",
       "         1.        , 0.97647059, 0.08627451, 0.        , 0.        ,\n",
       "         0.        , 0.        , 0.        , 0.        , 0.        ,\n",
       "         0.        , 0.        , 0.        , 0.        , 0.        ,\n",
       "         0.        , 0.15294118, 0.97647059, 1.        , 0.48235294,\n",
       "         0.        , 0.        , 0.        ],\n",
       "        [0.        , 0.        , 0.        , 0.        , 0.19215686,\n",
       "         0.80392157, 0.77254902, 0.04313725, 0.        , 0.01568627,\n",
       "         0.00392157, 0.00784314, 0.00784314, 0.00784314, 0.00784314,\n",
       "         0.00784314, 0.00784314, 0.00784314, 0.00784314, 0.01176471,\n",
       "         0.        , 0.01176471, 0.68235294, 0.74117647, 0.2627451 ,\n",
       "         0.        , 0.        , 0.        ]]])"
      ]
     },
     "execution_count": 34,
     "metadata": {},
     "output_type": "execute_result"
    }
   ],
   "source": [
    "img"
   ]
  },
  {
   "cell_type": "code",
   "execution_count": 35,
   "id": "a2896c4e",
   "metadata": {
    "execution": {
     "iopub.execute_input": "2023-07-03T05:25:13.601525Z",
     "iopub.status.busy": "2023-07-03T05:25:13.601119Z",
     "iopub.status.idle": "2023-07-03T05:25:13.673415Z",
     "shell.execute_reply": "2023-07-03T05:25:13.672519Z"
    },
    "papermill": {
     "duration": 0.148003,
     "end_time": "2023-07-03T05:25:13.675540",
     "exception": false,
     "start_time": "2023-07-03T05:25:13.527537",
     "status": "completed"
    },
    "tags": []
   },
   "outputs": [
    {
     "name": "stdout",
     "output_type": "stream",
     "text": [
      "1/1 [==============================] - 0s 21ms/step\n"
     ]
    }
   ],
   "source": [
    "predictions_single=probability_model.predict(img)"
   ]
  },
  {
   "cell_type": "code",
   "execution_count": 36,
   "id": "622a9f53",
   "metadata": {
    "execution": {
     "iopub.execute_input": "2023-07-03T05:25:13.821022Z",
     "iopub.status.busy": "2023-07-03T05:25:13.820622Z",
     "iopub.status.idle": "2023-07-03T05:25:13.827322Z",
     "shell.execute_reply": "2023-07-03T05:25:13.826309Z"
    },
    "papermill": {
     "duration": 0.081561,
     "end_time": "2023-07-03T05:25:13.829236",
     "exception": false,
     "start_time": "2023-07-03T05:25:13.747675",
     "status": "completed"
    },
    "tags": []
   },
   "outputs": [
    {
     "data": {
      "text/plain": [
       "array([[4.6236415e-05, 2.6518968e-11, 9.9855143e-01, 7.0836481e-10,\n",
       "        1.3439906e-03, 4.8434108e-12, 5.8302558e-05, 4.8655669e-16,\n",
       "        1.7319927e-11, 8.6729550e-15]], dtype=float32)"
      ]
     },
     "execution_count": 36,
     "metadata": {},
     "output_type": "execute_result"
    }
   ],
   "source": [
    "predictions_single"
   ]
  },
  {
   "cell_type": "code",
   "execution_count": 37,
   "id": "9fbaf2ed",
   "metadata": {
    "execution": {
     "iopub.execute_input": "2023-07-03T05:25:13.974618Z",
     "iopub.status.busy": "2023-07-03T05:25:13.973984Z",
     "iopub.status.idle": "2023-07-03T05:25:14.128673Z",
     "shell.execute_reply": "2023-07-03T05:25:14.127604Z"
    },
    "papermill": {
     "duration": 0.23063,
     "end_time": "2023-07-03T05:25:14.131406",
     "exception": false,
     "start_time": "2023-07-03T05:25:13.900776",
     "status": "completed"
    },
    "tags": []
   },
   "outputs": [
    {
     "data": {
      "image/png": "[encoded data removed]",
      "text/plain": [
       "<Figure size 640x480 with 1 Axes>"
      ]
     },
     "metadata": {},
     "output_type": "display_data"
    }
   ],
   "source": [
    "plot_value_array(1,predictions_single[0],test_labels)\n",
    "\n",
    "_=plt.xticks(range(10),class_names,rotation=45)\n",
    "plt.show()"
   ]
  },
  {
   "cell_type": "code",
   "execution_count": 38,
   "id": "b03bfe7b",
   "metadata": {
    "execution": {
     "iopub.execute_input": "2023-07-03T05:25:14.297846Z",
     "iopub.status.busy": "2023-07-03T05:25:14.297217Z",
     "iopub.status.idle": "2023-07-03T05:25:14.302984Z",
     "shell.execute_reply": "2023-07-03T05:25:14.302022Z"
    },
    "papermill": {
     "duration": 0.081612,
     "end_time": "2023-07-03T05:25:14.304973",
     "exception": false,
     "start_time": "2023-07-03T05:25:14.223361",
     "status": "completed"
    },
    "tags": []
   },
   "outputs": [
    {
     "data": {
      "text/plain": [
       "2"
      ]
     },
     "execution_count": 38,
     "metadata": {},
     "output_type": "execute_result"
    }
   ],
   "source": [
    "np.argmax(predictions_single[0])"
   ]
  },
  {
   "cell_type": "code",
   "execution_count": 39,
   "id": "fdea9f44",
   "metadata": {
    "execution": {
     "iopub.execute_input": "2023-07-03T05:25:14.451986Z",
     "iopub.status.busy": "2023-07-03T05:25:14.450966Z",
     "iopub.status.idle": "2023-07-03T05:25:14.468081Z",
     "shell.execute_reply": "2023-07-03T05:25:14.466977Z"
    },
    "papermill": {
     "duration": 0.092298,
     "end_time": "2023-07-03T05:25:14.470387",
     "exception": false,
     "start_time": "2023-07-03T05:25:14.378089",
     "status": "completed"
    },
    "tags": []
   },
   "outputs": [
    {
     "name": "stdout",
     "output_type": "stream",
     "text": [
      "Model: \"sequential_1\"\n",
      "_________________________________________________________________\n",
      " Layer (type)                Output Shape              Param #   \n",
      "=================================================================\n",
      " sequential (Sequential)     (None, 10)                101770    \n",
      "                                                                 \n",
      " softmax (Softmax)           (None, 10)                0         \n",
      "                                                                 \n",
      "=================================================================\n",
      "Total params: 101,770\n",
      "Trainable params: 101,770\n",
      "Non-trainable params: 0\n",
      "_________________________________________________________________\n"
     ]
    }
   ],
   "source": [
    "probability_model.summary()"
   ]
  },
  {
   "cell_type": "code",
   "execution_count": 40,
   "id": "100398a4",
   "metadata": {
    "execution": {
     "iopub.execute_input": "2023-07-03T05:25:14.619661Z",
     "iopub.status.busy": "2023-07-03T05:25:14.618616Z",
     "iopub.status.idle": "2023-07-03T05:25:14.637072Z",
     "shell.execute_reply": "2023-07-03T05:25:14.636323Z"
    },
    "papermill": {
     "duration": 0.095314,
     "end_time": "2023-07-03T05:25:14.639696",
     "exception": false,
     "start_time": "2023-07-03T05:25:14.544382",
     "status": "completed"
    },
    "tags": []
   },
   "outputs": [
    {
     "name": "stdout",
     "output_type": "stream",
     "text": [
      "Model: \"sequential\"\n",
      "_________________________________________________________________\n",
      " Layer (type)                Output Shape              Param #   \n",
      "=================================================================\n",
      " flatten (Flatten)           (None, 784)               0         \n",
      "                                                                 \n",
      " dense (Dense)               (None, 128)               100480    \n",
      "                                                                 \n",
      " dense_1 (Dense)             (None, 10)                1290      \n",
      "                                                                 \n",
      "=================================================================\n",
      "Total params: 101,770\n",
      "Trainable params: 101,770\n",
      "Non-trainable params: 0\n",
      "_________________________________________________________________\n"
     ]
    }
   ],
   "source": [
    "model.summary()"
   ]
  }
 ],
 "metadata": {
  "kernelspec": {
   "display_name": "Python 3",
   "language": "python",
   "name": "python3"
  },
  "language_info": {
   "codemirror_mode": {
    "name": "ipython",
    "version": 3
   },
   "file_extension": ".py",
   "mimetype": "text/x-python",
   "name": "python",
   "nbconvert_exporter": "python",
   "pygments_lexer": "ipython3",
   "version": "3.10.10"
  },
  "papermill": {
   "default_parameters": {},
   "duration": 120.581651,
   "end_time": "2023-07-03T05:25:18.046803",
   "environment_variables": {},
   "exception": null,
   "input_path": "__notebook__.ipynb",
   "output_path": "__notebook__.ipynb",
   "parameters": {},
   "start_time": "2023-07-03T05:23:17.465152",
   "version": "2.4.0"
  }
 },
 "nbformat": 4,
 "nbformat_minor": 5
}
