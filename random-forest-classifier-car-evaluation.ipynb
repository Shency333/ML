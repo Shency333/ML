{
 "cells": [
  {
   "cell_type": "code",
   "execution_count": 1,
   "id": "d7877503",
   "metadata": {
    "_cell_guid": "b1076dfc-b9ad-4769-8c92-a6c4dae69d19",
    "_uuid": "8f2839f25d086af736a60e9eeb907d3b93b6e0e5",
    "execution": {
     "iopub.execute_input": "2023-06-28T03:22:22.313929Z",
     "iopub.status.busy": "2023-06-28T03:22:22.313566Z",
     "iopub.status.idle": "2023-06-28T03:22:24.950720Z",
     "shell.execute_reply": "2023-06-28T03:22:24.949568Z"
    },
    "papermill": {
     "duration": 2.647405,
     "end_time": "2023-06-28T03:22:24.953052",
     "exception": false,
     "start_time": "2023-06-28T03:22:22.305647",
     "status": "completed"
    },
    "tags": []
   },
   "outputs": [
    {
     "name": "stdout",
     "output_type": "stream",
     "text": [
      "/kaggle/input/car-evaluation-data-set/car_evaluation.csv\n"
     ]
    }
   ],
   "source": [
    "import numpy as np\n",
    "import pandas as pd \n",
    "import matplotlib.pyplot as plt\n",
    "import seaborn as sns\n",
    "from sklearn.model_selection import train_test_split\n",
    "import category_encoders as ce\n",
    "from sklearn.ensemble import RandomForestClassifier\n",
    "from sklearn.metrics import accuracy_score\n",
    "\n",
    "\n",
    "\n",
    "import os\n",
    "for dirname, _, filenames in os.walk('/kaggle/input'):\n",
    "    for filename in filenames:\n",
    "        print(os.path.join(dirname, filename))"
   ]
  },
  {
   "cell_type": "code",
   "execution_count": 2,
   "id": "01eaad72",
   "metadata": {
    "execution": {
     "iopub.execute_input": "2023-06-28T03:22:24.966432Z",
     "iopub.status.busy": "2023-06-28T03:22:24.966081Z",
     "iopub.status.idle": "2023-06-28T03:22:24.969987Z",
     "shell.execute_reply": "2023-06-28T03:22:24.969122Z"
    },
    "papermill": {
     "duration": 0.01302,
     "end_time": "2023-06-28T03:22:24.971971",
     "exception": false,
     "start_time": "2023-06-28T03:22:24.958951",
     "status": "completed"
    },
    "tags": []
   },
   "outputs": [],
   "source": [
    "import warnings\n",
    "\n",
    "warnings.filterwarnings('ignore')"
   ]
  },
  {
   "cell_type": "code",
   "execution_count": 3,
   "id": "19346703",
   "metadata": {
    "execution": {
     "iopub.execute_input": "2023-06-28T03:22:24.985239Z",
     "iopub.status.busy": "2023-06-28T03:22:24.984577Z",
     "iopub.status.idle": "2023-06-28T03:22:25.010780Z",
     "shell.execute_reply": "2023-06-28T03:22:25.009700Z"
    },
    "papermill": {
     "duration": 0.035619,
     "end_time": "2023-06-28T03:22:25.013295",
     "exception": false,
     "start_time": "2023-06-28T03:22:24.977676",
     "status": "completed"
    },
    "tags": []
   },
   "outputs": [],
   "source": [
    "data = '/kaggle/input/car-evaluation-data-set/car_evaluation.csv'\n",
    "\n",
    "df = pd.read_csv(data, header=None)"
   ]
  },
  {
   "cell_type": "code",
   "execution_count": 4,
   "id": "8aa3c5e6",
   "metadata": {
    "execution": {
     "iopub.execute_input": "2023-06-28T03:22:25.026487Z",
     "iopub.status.busy": "2023-06-28T03:22:25.025766Z",
     "iopub.status.idle": "2023-06-28T03:22:25.032857Z",
     "shell.execute_reply": "2023-06-28T03:22:25.031834Z"
    },
    "papermill": {
     "duration": 0.01605,
     "end_time": "2023-06-28T03:22:25.035137",
     "exception": false,
     "start_time": "2023-06-28T03:22:25.019087",
     "status": "completed"
    },
    "tags": []
   },
   "outputs": [
    {
     "data": {
      "text/plain": [
       "(1728, 7)"
      ]
     },
     "execution_count": 4,
     "metadata": {},
     "output_type": "execute_result"
    }
   ],
   "source": [
    "df.shape"
   ]
  },
  {
   "cell_type": "code",
   "execution_count": 5,
   "id": "c4204c54",
   "metadata": {
    "execution": {
     "iopub.execute_input": "2023-06-28T03:22:25.049883Z",
     "iopub.status.busy": "2023-06-28T03:22:25.049535Z",
     "iopub.status.idle": "2023-06-28T03:22:25.081442Z",
     "shell.execute_reply": "2023-06-28T03:22:25.080341Z"
    },
    "papermill": {
     "duration": 0.043022,
     "end_time": "2023-06-28T03:22:25.083919",
     "exception": false,
     "start_time": "2023-06-28T03:22:25.040897",
     "status": "completed"
    },
    "tags": []
   },
   "outputs": [
    {
     "data": {
      "text/html": [
       "<div>\n",
       "<style scoped>\n",
       "    .dataframe tbody tr th:only-of-type {\n",
       "        vertical-align: middle;\n",
       "    }\n",
       "\n",
       "    .dataframe tbody tr th {\n",
       "        vertical-align: top;\n",
       "    }\n",
       "\n",
       "    .dataframe thead th {\n",
       "        text-align: right;\n",
       "    }\n",
       "</style>\n",
       "<table border=\"1\" class=\"dataframe\">\n",
       "  <thead>\n",
       "    <tr style=\"text-align: right;\">\n",
       "      <th></th>\n",
       "      <th>0</th>\n",
       "      <th>1</th>\n",
       "      <th>2</th>\n",
       "      <th>3</th>\n",
       "      <th>4</th>\n",
       "      <th>5</th>\n",
       "      <th>6</th>\n",
       "    </tr>\n",
       "  </thead>\n",
       "  <tbody>\n",
       "    <tr>\n",
       "      <th>0</th>\n",
       "      <td>vhigh</td>\n",
       "      <td>vhigh</td>\n",
       "      <td>2</td>\n",
       "      <td>2</td>\n",
       "      <td>small</td>\n",
       "      <td>low</td>\n",
       "      <td>unacc</td>\n",
       "    </tr>\n",
       "    <tr>\n",
       "      <th>1</th>\n",
       "      <td>vhigh</td>\n",
       "      <td>vhigh</td>\n",
       "      <td>2</td>\n",
       "      <td>2</td>\n",
       "      <td>small</td>\n",
       "      <td>med</td>\n",
       "      <td>unacc</td>\n",
       "    </tr>\n",
       "    <tr>\n",
       "      <th>2</th>\n",
       "      <td>vhigh</td>\n",
       "      <td>vhigh</td>\n",
       "      <td>2</td>\n",
       "      <td>2</td>\n",
       "      <td>small</td>\n",
       "      <td>high</td>\n",
       "      <td>unacc</td>\n",
       "    </tr>\n",
       "    <tr>\n",
       "      <th>3</th>\n",
       "      <td>vhigh</td>\n",
       "      <td>vhigh</td>\n",
       "      <td>2</td>\n",
       "      <td>2</td>\n",
       "      <td>med</td>\n",
       "      <td>low</td>\n",
       "      <td>unacc</td>\n",
       "    </tr>\n",
       "    <tr>\n",
       "      <th>4</th>\n",
       "      <td>vhigh</td>\n",
       "      <td>vhigh</td>\n",
       "      <td>2</td>\n",
       "      <td>2</td>\n",
       "      <td>med</td>\n",
       "      <td>med</td>\n",
       "      <td>unacc</td>\n",
       "    </tr>\n",
       "  </tbody>\n",
       "</table>\n",
       "</div>"
      ],
      "text/plain": [
       "       0      1  2  3      4     5      6\n",
       "0  vhigh  vhigh  2  2  small   low  unacc\n",
       "1  vhigh  vhigh  2  2  small   med  unacc\n",
       "2  vhigh  vhigh  2  2  small  high  unacc\n",
       "3  vhigh  vhigh  2  2    med   low  unacc\n",
       "4  vhigh  vhigh  2  2    med   med  unacc"
      ]
     },
     "execution_count": 5,
     "metadata": {},
     "output_type": "execute_result"
    }
   ],
   "source": [
    "df.head()"
   ]
  },
  {
   "cell_type": "code",
   "execution_count": 6,
   "id": "078e6e78",
   "metadata": {
    "execution": {
     "iopub.execute_input": "2023-06-28T03:22:25.098236Z",
     "iopub.status.busy": "2023-06-28T03:22:25.097847Z",
     "iopub.status.idle": "2023-06-28T03:22:25.104644Z",
     "shell.execute_reply": "2023-06-28T03:22:25.103566Z"
    },
    "papermill": {
     "duration": 0.016609,
     "end_time": "2023-06-28T03:22:25.106807",
     "exception": false,
     "start_time": "2023-06-28T03:22:25.090198",
     "status": "completed"
    },
    "tags": []
   },
   "outputs": [
    {
     "data": {
      "text/plain": [
       "['buying', 'maint', 'doors', 'persons', 'lug_boot', 'safety', 'class']"
      ]
     },
     "execution_count": 6,
     "metadata": {},
     "output_type": "execute_result"
    }
   ],
   "source": [
    "col_names = ['buying', 'maint', 'doors', 'persons', 'lug_boot', 'safety', 'class']\n",
    "\n",
    "\n",
    "df.columns = col_names\n",
    "\n",
    "col_names"
   ]
  },
  {
   "cell_type": "code",
   "execution_count": 7,
   "id": "564ba1fa",
   "metadata": {
    "execution": {
     "iopub.execute_input": "2023-06-28T03:22:25.120955Z",
     "iopub.status.busy": "2023-06-28T03:22:25.120575Z",
     "iopub.status.idle": "2023-06-28T03:22:25.133481Z",
     "shell.execute_reply": "2023-06-28T03:22:25.132319Z"
    },
    "papermill": {
     "duration": 0.022753,
     "end_time": "2023-06-28T03:22:25.135855",
     "exception": false,
     "start_time": "2023-06-28T03:22:25.113102",
     "status": "completed"
    },
    "tags": []
   },
   "outputs": [
    {
     "data": {
      "text/html": [
       "<div>\n",
       "<style scoped>\n",
       "    .dataframe tbody tr th:only-of-type {\n",
       "        vertical-align: middle;\n",
       "    }\n",
       "\n",
       "    .dataframe tbody tr th {\n",
       "        vertical-align: top;\n",
       "    }\n",
       "\n",
       "    .dataframe thead th {\n",
       "        text-align: right;\n",
       "    }\n",
       "</style>\n",
       "<table border=\"1\" class=\"dataframe\">\n",
       "  <thead>\n",
       "    <tr style=\"text-align: right;\">\n",
       "      <th></th>\n",
       "      <th>buying</th>\n",
       "      <th>maint</th>\n",
       "      <th>doors</th>\n",
       "      <th>persons</th>\n",
       "      <th>lug_boot</th>\n",
       "      <th>safety</th>\n",
       "      <th>class</th>\n",
       "    </tr>\n",
       "  </thead>\n",
       "  <tbody>\n",
       "    <tr>\n",
       "      <th>0</th>\n",
       "      <td>vhigh</td>\n",
       "      <td>vhigh</td>\n",
       "      <td>2</td>\n",
       "      <td>2</td>\n",
       "      <td>small</td>\n",
       "      <td>low</td>\n",
       "      <td>unacc</td>\n",
       "    </tr>\n",
       "    <tr>\n",
       "      <th>1</th>\n",
       "      <td>vhigh</td>\n",
       "      <td>vhigh</td>\n",
       "      <td>2</td>\n",
       "      <td>2</td>\n",
       "      <td>small</td>\n",
       "      <td>med</td>\n",
       "      <td>unacc</td>\n",
       "    </tr>\n",
       "    <tr>\n",
       "      <th>2</th>\n",
       "      <td>vhigh</td>\n",
       "      <td>vhigh</td>\n",
       "      <td>2</td>\n",
       "      <td>2</td>\n",
       "      <td>small</td>\n",
       "      <td>high</td>\n",
       "      <td>unacc</td>\n",
       "    </tr>\n",
       "    <tr>\n",
       "      <th>3</th>\n",
       "      <td>vhigh</td>\n",
       "      <td>vhigh</td>\n",
       "      <td>2</td>\n",
       "      <td>2</td>\n",
       "      <td>med</td>\n",
       "      <td>low</td>\n",
       "      <td>unacc</td>\n",
       "    </tr>\n",
       "    <tr>\n",
       "      <th>4</th>\n",
       "      <td>vhigh</td>\n",
       "      <td>vhigh</td>\n",
       "      <td>2</td>\n",
       "      <td>2</td>\n",
       "      <td>med</td>\n",
       "      <td>med</td>\n",
       "      <td>unacc</td>\n",
       "    </tr>\n",
       "  </tbody>\n",
       "</table>\n",
       "</div>"
      ],
      "text/plain": [
       "  buying  maint doors persons lug_boot safety  class\n",
       "0  vhigh  vhigh     2       2    small    low  unacc\n",
       "1  vhigh  vhigh     2       2    small    med  unacc\n",
       "2  vhigh  vhigh     2       2    small   high  unacc\n",
       "3  vhigh  vhigh     2       2      med    low  unacc\n",
       "4  vhigh  vhigh     2       2      med    med  unacc"
      ]
     },
     "execution_count": 7,
     "metadata": {},
     "output_type": "execute_result"
    }
   ],
   "source": [
    "df.head()"
   ]
  },
  {
   "cell_type": "code",
   "execution_count": 8,
   "id": "9ff95e9a",
   "metadata": {
    "execution": {
     "iopub.execute_input": "2023-06-28T03:22:25.150618Z",
     "iopub.status.busy": "2023-06-28T03:22:25.150246Z",
     "iopub.status.idle": "2023-06-28T03:22:25.174423Z",
     "shell.execute_reply": "2023-06-28T03:22:25.172968Z"
    },
    "papermill": {
     "duration": 0.034488,
     "end_time": "2023-06-28T03:22:25.176923",
     "exception": false,
     "start_time": "2023-06-28T03:22:25.142435",
     "status": "completed"
    },
    "tags": []
   },
   "outputs": [
    {
     "name": "stdout",
     "output_type": "stream",
     "text": [
      "<class 'pandas.core.frame.DataFrame'>\n",
      "RangeIndex: 1728 entries, 0 to 1727\n",
      "Data columns (total 7 columns):\n",
      " #   Column    Non-Null Count  Dtype \n",
      "---  ------    --------------  ----- \n",
      " 0   buying    1728 non-null   object\n",
      " 1   maint     1728 non-null   object\n",
      " 2   doors     1728 non-null   object\n",
      " 3   persons   1728 non-null   object\n",
      " 4   lug_boot  1728 non-null   object\n",
      " 5   safety    1728 non-null   object\n",
      " 6   class     1728 non-null   object\n",
      "dtypes: object(7)\n",
      "memory usage: 94.6+ KB\n"
     ]
    }
   ],
   "source": [
    "df.info()"
   ]
  },
  {
   "cell_type": "code",
   "execution_count": 9,
   "id": "f683790e",
   "metadata": {
    "execution": {
     "iopub.execute_input": "2023-06-28T03:22:25.192388Z",
     "iopub.status.busy": "2023-06-28T03:22:25.191333Z",
     "iopub.status.idle": "2023-06-28T03:22:25.204418Z",
     "shell.execute_reply": "2023-06-28T03:22:25.203202Z"
    },
    "papermill": {
     "duration": 0.023039,
     "end_time": "2023-06-28T03:22:25.206597",
     "exception": false,
     "start_time": "2023-06-28T03:22:25.183558",
     "status": "completed"
    },
    "tags": []
   },
   "outputs": [
    {
     "name": "stdout",
     "output_type": "stream",
     "text": [
      "vhigh    432\n",
      "high     432\n",
      "med      432\n",
      "low      432\n",
      "Name: buying, dtype: int64\n",
      "vhigh    432\n",
      "high     432\n",
      "med      432\n",
      "low      432\n",
      "Name: maint, dtype: int64\n",
      "2        432\n",
      "3        432\n",
      "4        432\n",
      "5more    432\n",
      "Name: doors, dtype: int64\n",
      "2       576\n",
      "4       576\n",
      "more    576\n",
      "Name: persons, dtype: int64\n",
      "small    576\n",
      "med      576\n",
      "big      576\n",
      "Name: lug_boot, dtype: int64\n",
      "low     576\n",
      "med     576\n",
      "high    576\n",
      "Name: safety, dtype: int64\n",
      "unacc    1210\n",
      "acc       384\n",
      "good       69\n",
      "vgood      65\n",
      "Name: class, dtype: int64\n"
     ]
    }
   ],
   "source": [
    "col_names = ['buying', 'maint', 'doors', 'persons', 'lug_boot', 'safety', 'class']\n",
    "\n",
    "\n",
    "for col in col_names:\n",
    "    \n",
    "    print(df[col].value_counts()) "
   ]
  },
  {
   "cell_type": "code",
   "execution_count": 10,
   "id": "1f574d61",
   "metadata": {
    "execution": {
     "iopub.execute_input": "2023-06-28T03:22:25.221211Z",
     "iopub.status.busy": "2023-06-28T03:22:25.220841Z",
     "iopub.status.idle": "2023-06-28T03:22:25.228583Z",
     "shell.execute_reply": "2023-06-28T03:22:25.227350Z"
    },
    "papermill": {
     "duration": 0.017201,
     "end_time": "2023-06-28T03:22:25.230412",
     "exception": false,
     "start_time": "2023-06-28T03:22:25.213211",
     "status": "completed"
    },
    "tags": []
   },
   "outputs": [
    {
     "data": {
      "text/plain": [
       "unacc    1210\n",
       "acc       384\n",
       "good       69\n",
       "vgood      65\n",
       "Name: class, dtype: int64"
      ]
     },
     "execution_count": 10,
     "metadata": {},
     "output_type": "execute_result"
    }
   ],
   "source": [
    "df['class'].value_counts()"
   ]
  },
  {
   "cell_type": "code",
   "execution_count": 11,
   "id": "9a8aed59",
   "metadata": {
    "execution": {
     "iopub.execute_input": "2023-06-28T03:22:25.244695Z",
     "iopub.status.busy": "2023-06-28T03:22:25.244308Z",
     "iopub.status.idle": "2023-06-28T03:22:25.254549Z",
     "shell.execute_reply": "2023-06-28T03:22:25.253540Z"
    },
    "papermill": {
     "duration": 0.019706,
     "end_time": "2023-06-28T03:22:25.256532",
     "exception": false,
     "start_time": "2023-06-28T03:22:25.236826",
     "status": "completed"
    },
    "tags": []
   },
   "outputs": [
    {
     "data": {
      "text/plain": [
       "buying      0\n",
       "maint       0\n",
       "doors       0\n",
       "persons     0\n",
       "lug_boot    0\n",
       "safety      0\n",
       "class       0\n",
       "dtype: int64"
      ]
     },
     "execution_count": 11,
     "metadata": {},
     "output_type": "execute_result"
    }
   ],
   "source": [
    "df.isnull().sum()"
   ]
  },
  {
   "cell_type": "code",
   "execution_count": 12,
   "id": "dfc0c10f",
   "metadata": {
    "execution": {
     "iopub.execute_input": "2023-06-28T03:22:25.271751Z",
     "iopub.status.busy": "2023-06-28T03:22:25.271378Z",
     "iopub.status.idle": "2023-06-28T03:22:25.277462Z",
     "shell.execute_reply": "2023-06-28T03:22:25.276295Z"
    },
    "papermill": {
     "duration": 0.016174,
     "end_time": "2023-06-28T03:22:25.279618",
     "exception": false,
     "start_time": "2023-06-28T03:22:25.263444",
     "status": "completed"
    },
    "tags": []
   },
   "outputs": [],
   "source": [
    "X = df.drop(['class'], axis=1)\n",
    "\n",
    "y = df['class']"
   ]
  },
  {
   "cell_type": "code",
   "execution_count": 13,
   "id": "f38d47fd",
   "metadata": {
    "execution": {
     "iopub.execute_input": "2023-06-28T03:22:25.295218Z",
     "iopub.status.busy": "2023-06-28T03:22:25.294264Z",
     "iopub.status.idle": "2023-06-28T03:22:25.302014Z",
     "shell.execute_reply": "2023-06-28T03:22:25.300913Z"
    },
    "papermill": {
     "duration": 0.017874,
     "end_time": "2023-06-28T03:22:25.304223",
     "exception": false,
     "start_time": "2023-06-28T03:22:25.286349",
     "status": "completed"
    },
    "tags": []
   },
   "outputs": [],
   "source": [
    "X_train, X_test, y_train, y_test = train_test_split(X, y, test_size = 0.33, random_state = 42)"
   ]
  },
  {
   "cell_type": "code",
   "execution_count": 14,
   "id": "5b21cee4",
   "metadata": {
    "execution": {
     "iopub.execute_input": "2023-06-28T03:22:25.319551Z",
     "iopub.status.busy": "2023-06-28T03:22:25.319170Z",
     "iopub.status.idle": "2023-06-28T03:22:25.326096Z",
     "shell.execute_reply": "2023-06-28T03:22:25.325013Z"
    },
    "papermill": {
     "duration": 0.017521,
     "end_time": "2023-06-28T03:22:25.328517",
     "exception": false,
     "start_time": "2023-06-28T03:22:25.310996",
     "status": "completed"
    },
    "tags": []
   },
   "outputs": [
    {
     "data": {
      "text/plain": [
       "((1157, 6), (571, 6))"
      ]
     },
     "execution_count": 14,
     "metadata": {},
     "output_type": "execute_result"
    }
   ],
   "source": [
    "X_train.shape, X_test.shape"
   ]
  },
  {
   "cell_type": "code",
   "execution_count": 15,
   "id": "582bdb43",
   "metadata": {
    "execution": {
     "iopub.execute_input": "2023-06-28T03:22:25.344726Z",
     "iopub.status.busy": "2023-06-28T03:22:25.344322Z",
     "iopub.status.idle": "2023-06-28T03:22:25.352800Z",
     "shell.execute_reply": "2023-06-28T03:22:25.351587Z"
    },
    "papermill": {
     "duration": 0.01942,
     "end_time": "2023-06-28T03:22:25.355177",
     "exception": false,
     "start_time": "2023-06-28T03:22:25.335757",
     "status": "completed"
    },
    "tags": []
   },
   "outputs": [
    {
     "data": {
      "text/plain": [
       "buying      object\n",
       "maint       object\n",
       "doors       object\n",
       "persons     object\n",
       "lug_boot    object\n",
       "safety      object\n",
       "dtype: object"
      ]
     },
     "execution_count": 15,
     "metadata": {},
     "output_type": "execute_result"
    }
   ],
   "source": [
    "X_train.dtypes"
   ]
  },
  {
   "cell_type": "code",
   "execution_count": 16,
   "id": "edb6f247",
   "metadata": {
    "execution": {
     "iopub.execute_input": "2023-06-28T03:22:25.371380Z",
     "iopub.status.busy": "2023-06-28T03:22:25.370971Z",
     "iopub.status.idle": "2023-06-28T03:22:25.384004Z",
     "shell.execute_reply": "2023-06-28T03:22:25.383120Z"
    },
    "papermill": {
     "duration": 0.023219,
     "end_time": "2023-06-28T03:22:25.385907",
     "exception": false,
     "start_time": "2023-06-28T03:22:25.362688",
     "status": "completed"
    },
    "tags": []
   },
   "outputs": [
    {
     "data": {
      "text/html": [
       "<div>\n",
       "<style scoped>\n",
       "    .dataframe tbody tr th:only-of-type {\n",
       "        vertical-align: middle;\n",
       "    }\n",
       "\n",
       "    .dataframe tbody tr th {\n",
       "        vertical-align: top;\n",
       "    }\n",
       "\n",
       "    .dataframe thead th {\n",
       "        text-align: right;\n",
       "    }\n",
       "</style>\n",
       "<table border=\"1\" class=\"dataframe\">\n",
       "  <thead>\n",
       "    <tr style=\"text-align: right;\">\n",
       "      <th></th>\n",
       "      <th>buying</th>\n",
       "      <th>maint</th>\n",
       "      <th>doors</th>\n",
       "      <th>persons</th>\n",
       "      <th>lug_boot</th>\n",
       "      <th>safety</th>\n",
       "    </tr>\n",
       "  </thead>\n",
       "  <tbody>\n",
       "    <tr>\n",
       "      <th>48</th>\n",
       "      <td>vhigh</td>\n",
       "      <td>vhigh</td>\n",
       "      <td>3</td>\n",
       "      <td>more</td>\n",
       "      <td>med</td>\n",
       "      <td>low</td>\n",
       "    </tr>\n",
       "    <tr>\n",
       "      <th>468</th>\n",
       "      <td>high</td>\n",
       "      <td>vhigh</td>\n",
       "      <td>3</td>\n",
       "      <td>4</td>\n",
       "      <td>small</td>\n",
       "      <td>low</td>\n",
       "    </tr>\n",
       "    <tr>\n",
       "      <th>155</th>\n",
       "      <td>vhigh</td>\n",
       "      <td>high</td>\n",
       "      <td>3</td>\n",
       "      <td>more</td>\n",
       "      <td>small</td>\n",
       "      <td>high</td>\n",
       "    </tr>\n",
       "    <tr>\n",
       "      <th>1721</th>\n",
       "      <td>low</td>\n",
       "      <td>low</td>\n",
       "      <td>5more</td>\n",
       "      <td>more</td>\n",
       "      <td>small</td>\n",
       "      <td>high</td>\n",
       "    </tr>\n",
       "    <tr>\n",
       "      <th>1208</th>\n",
       "      <td>med</td>\n",
       "      <td>low</td>\n",
       "      <td>2</td>\n",
       "      <td>more</td>\n",
       "      <td>small</td>\n",
       "      <td>high</td>\n",
       "    </tr>\n",
       "  </tbody>\n",
       "</table>\n",
       "</div>"
      ],
      "text/plain": [
       "     buying  maint  doors persons lug_boot safety\n",
       "48    vhigh  vhigh      3    more      med    low\n",
       "468    high  vhigh      3       4    small    low\n",
       "155   vhigh   high      3    more    small   high\n",
       "1721    low    low  5more    more    small   high\n",
       "1208    med    low      2    more    small   high"
      ]
     },
     "execution_count": 16,
     "metadata": {},
     "output_type": "execute_result"
    }
   ],
   "source": [
    "X_train.head()"
   ]
  },
  {
   "cell_type": "code",
   "execution_count": 17,
   "id": "8712bed8",
   "metadata": {
    "execution": {
     "iopub.execute_input": "2023-06-28T03:22:25.402260Z",
     "iopub.status.busy": "2023-06-28T03:22:25.401870Z",
     "iopub.status.idle": "2023-06-28T03:22:25.448404Z",
     "shell.execute_reply": "2023-06-28T03:22:25.447159Z"
    },
    "papermill": {
     "duration": 0.057946,
     "end_time": "2023-06-28T03:22:25.450890",
     "exception": false,
     "start_time": "2023-06-28T03:22:25.392944",
     "status": "completed"
    },
    "tags": []
   },
   "outputs": [],
   "source": [
    "encoder = ce.OrdinalEncoder(cols=['buying', 'maint', 'doors', 'persons', 'lug_boot', 'safety'])\n",
    "\n",
    "\n",
    "X_train = encoder.fit_transform(X_train)\n",
    "\n",
    "X_test = encoder.transform(X_test)"
   ]
  },
  {
   "cell_type": "code",
   "execution_count": 18,
   "id": "f86069db",
   "metadata": {
    "execution": {
     "iopub.execute_input": "2023-06-28T03:22:25.467732Z",
     "iopub.status.busy": "2023-06-28T03:22:25.467332Z",
     "iopub.status.idle": "2023-06-28T03:22:25.477749Z",
     "shell.execute_reply": "2023-06-28T03:22:25.476734Z"
    },
    "papermill": {
     "duration": 0.021363,
     "end_time": "2023-06-28T03:22:25.480020",
     "exception": false,
     "start_time": "2023-06-28T03:22:25.458657",
     "status": "completed"
    },
    "tags": []
   },
   "outputs": [
    {
     "data": {
      "text/html": [
       "<div>\n",
       "<style scoped>\n",
       "    .dataframe tbody tr th:only-of-type {\n",
       "        vertical-align: middle;\n",
       "    }\n",
       "\n",
       "    .dataframe tbody tr th {\n",
       "        vertical-align: top;\n",
       "    }\n",
       "\n",
       "    .dataframe thead th {\n",
       "        text-align: right;\n",
       "    }\n",
       "</style>\n",
       "<table border=\"1\" class=\"dataframe\">\n",
       "  <thead>\n",
       "    <tr style=\"text-align: right;\">\n",
       "      <th></th>\n",
       "      <th>buying</th>\n",
       "      <th>maint</th>\n",
       "      <th>doors</th>\n",
       "      <th>persons</th>\n",
       "      <th>lug_boot</th>\n",
       "      <th>safety</th>\n",
       "    </tr>\n",
       "  </thead>\n",
       "  <tbody>\n",
       "    <tr>\n",
       "      <th>48</th>\n",
       "      <td>1</td>\n",
       "      <td>1</td>\n",
       "      <td>1</td>\n",
       "      <td>1</td>\n",
       "      <td>1</td>\n",
       "      <td>1</td>\n",
       "    </tr>\n",
       "    <tr>\n",
       "      <th>468</th>\n",
       "      <td>2</td>\n",
       "      <td>1</td>\n",
       "      <td>1</td>\n",
       "      <td>2</td>\n",
       "      <td>2</td>\n",
       "      <td>1</td>\n",
       "    </tr>\n",
       "    <tr>\n",
       "      <th>155</th>\n",
       "      <td>1</td>\n",
       "      <td>2</td>\n",
       "      <td>1</td>\n",
       "      <td>1</td>\n",
       "      <td>2</td>\n",
       "      <td>2</td>\n",
       "    </tr>\n",
       "    <tr>\n",
       "      <th>1721</th>\n",
       "      <td>3</td>\n",
       "      <td>3</td>\n",
       "      <td>2</td>\n",
       "      <td>1</td>\n",
       "      <td>2</td>\n",
       "      <td>2</td>\n",
       "    </tr>\n",
       "    <tr>\n",
       "      <th>1208</th>\n",
       "      <td>4</td>\n",
       "      <td>3</td>\n",
       "      <td>3</td>\n",
       "      <td>1</td>\n",
       "      <td>2</td>\n",
       "      <td>2</td>\n",
       "    </tr>\n",
       "  </tbody>\n",
       "</table>\n",
       "</div>"
      ],
      "text/plain": [
       "      buying  maint  doors  persons  lug_boot  safety\n",
       "48         1      1      1        1         1       1\n",
       "468        2      1      1        2         2       1\n",
       "155        1      2      1        1         2       2\n",
       "1721       3      3      2        1         2       2\n",
       "1208       4      3      3        1         2       2"
      ]
     },
     "execution_count": 18,
     "metadata": {},
     "output_type": "execute_result"
    }
   ],
   "source": [
    "X_train.head()"
   ]
  },
  {
   "cell_type": "code",
   "execution_count": 19,
   "id": "79e8b4ab",
   "metadata": {
    "execution": {
     "iopub.execute_input": "2023-06-28T03:22:25.496872Z",
     "iopub.status.busy": "2023-06-28T03:22:25.496479Z",
     "iopub.status.idle": "2023-06-28T03:22:25.507049Z",
     "shell.execute_reply": "2023-06-28T03:22:25.506081Z"
    },
    "papermill": {
     "duration": 0.021744,
     "end_time": "2023-06-28T03:22:25.509336",
     "exception": false,
     "start_time": "2023-06-28T03:22:25.487592",
     "status": "completed"
    },
    "tags": []
   },
   "outputs": [
    {
     "data": {
      "text/html": [
       "<div>\n",
       "<style scoped>\n",
       "    .dataframe tbody tr th:only-of-type {\n",
       "        vertical-align: middle;\n",
       "    }\n",
       "\n",
       "    .dataframe tbody tr th {\n",
       "        vertical-align: top;\n",
       "    }\n",
       "\n",
       "    .dataframe thead th {\n",
       "        text-align: right;\n",
       "    }\n",
       "</style>\n",
       "<table border=\"1\" class=\"dataframe\">\n",
       "  <thead>\n",
       "    <tr style=\"text-align: right;\">\n",
       "      <th></th>\n",
       "      <th>buying</th>\n",
       "      <th>maint</th>\n",
       "      <th>doors</th>\n",
       "      <th>persons</th>\n",
       "      <th>lug_boot</th>\n",
       "      <th>safety</th>\n",
       "    </tr>\n",
       "  </thead>\n",
       "  <tbody>\n",
       "    <tr>\n",
       "      <th>599</th>\n",
       "      <td>2</td>\n",
       "      <td>2</td>\n",
       "      <td>4</td>\n",
       "      <td>3</td>\n",
       "      <td>1</td>\n",
       "      <td>2</td>\n",
       "    </tr>\n",
       "    <tr>\n",
       "      <th>1201</th>\n",
       "      <td>4</td>\n",
       "      <td>3</td>\n",
       "      <td>3</td>\n",
       "      <td>2</td>\n",
       "      <td>1</td>\n",
       "      <td>3</td>\n",
       "    </tr>\n",
       "    <tr>\n",
       "      <th>628</th>\n",
       "      <td>2</td>\n",
       "      <td>2</td>\n",
       "      <td>2</td>\n",
       "      <td>3</td>\n",
       "      <td>3</td>\n",
       "      <td>3</td>\n",
       "    </tr>\n",
       "    <tr>\n",
       "      <th>1498</th>\n",
       "      <td>3</td>\n",
       "      <td>2</td>\n",
       "      <td>2</td>\n",
       "      <td>2</td>\n",
       "      <td>1</td>\n",
       "      <td>3</td>\n",
       "    </tr>\n",
       "    <tr>\n",
       "      <th>1263</th>\n",
       "      <td>4</td>\n",
       "      <td>3</td>\n",
       "      <td>4</td>\n",
       "      <td>1</td>\n",
       "      <td>1</td>\n",
       "      <td>1</td>\n",
       "    </tr>\n",
       "  </tbody>\n",
       "</table>\n",
       "</div>"
      ],
      "text/plain": [
       "      buying  maint  doors  persons  lug_boot  safety\n",
       "599        2      2      4        3         1       2\n",
       "1201       4      3      3        2         1       3\n",
       "628        2      2      2        3         3       3\n",
       "1498       3      2      2        2         1       3\n",
       "1263       4      3      4        1         1       1"
      ]
     },
     "execution_count": 19,
     "metadata": {},
     "output_type": "execute_result"
    }
   ],
   "source": [
    "X_test.head()"
   ]
  },
  {
   "cell_type": "code",
   "execution_count": 20,
   "id": "c2a9f090",
   "metadata": {
    "execution": {
     "iopub.execute_input": "2023-06-28T03:22:25.527063Z",
     "iopub.status.busy": "2023-06-28T03:22:25.525942Z",
     "iopub.status.idle": "2023-06-28T03:22:25.769360Z",
     "shell.execute_reply": "2023-06-28T03:22:25.768010Z"
    },
    "papermill": {
     "duration": 0.254846,
     "end_time": "2023-06-28T03:22:25.771934",
     "exception": false,
     "start_time": "2023-06-28T03:22:25.517088",
     "status": "completed"
    },
    "tags": []
   },
   "outputs": [],
   "source": [
    "rfc = RandomForestClassifier(random_state=0)\n",
    "rfc.fit(X_train, y_train)\n",
    "\n",
    "y_pred = rfc.predict(X_test)"
   ]
  },
  {
   "cell_type": "code",
   "execution_count": 21,
   "id": "0bfe2dff",
   "metadata": {
    "execution": {
     "iopub.execute_input": "2023-06-28T03:22:25.789221Z",
     "iopub.status.busy": "2023-06-28T03:22:25.788350Z",
     "iopub.status.idle": "2023-06-28T03:22:25.796359Z",
     "shell.execute_reply": "2023-06-28T03:22:25.795169Z"
    },
    "papermill": {
     "duration": 0.019098,
     "end_time": "2023-06-28T03:22:25.798637",
     "exception": false,
     "start_time": "2023-06-28T03:22:25.779539",
     "status": "completed"
    },
    "tags": []
   },
   "outputs": [
    {
     "name": "stdout",
     "output_type": "stream",
     "text": [
      "Model accuracy score with 10 decision-trees : 0.9457\n"
     ]
    }
   ],
   "source": [
    "print('Model accuracy score with 10 decision-trees : {0:0.4f}'. format(accuracy_score(y_test, y_pred)))"
   ]
  },
  {
   "cell_type": "code",
   "execution_count": 22,
   "id": "f0a0ac00",
   "metadata": {
    "execution": {
     "iopub.execute_input": "2023-06-28T03:22:25.815844Z",
     "iopub.status.busy": "2023-06-28T03:22:25.815088Z",
     "iopub.status.idle": "2023-06-28T03:22:26.052152Z",
     "shell.execute_reply": "2023-06-28T03:22:26.051238Z"
    },
    "papermill": {
     "duration": 0.248199,
     "end_time": "2023-06-28T03:22:26.054634",
     "exception": false,
     "start_time": "2023-06-28T03:22:25.806435",
     "status": "completed"
    },
    "tags": []
   },
   "outputs": [],
   "source": [
    "rfc_100 = RandomForestClassifier(n_estimators=100, random_state=0)\n",
    "rfc_100.fit(X_train, y_train)\n",
    "y_pred_100 = rfc_100.predict(X_test)"
   ]
  },
  {
   "cell_type": "code",
   "execution_count": 23,
   "id": "338c8946",
   "metadata": {
    "execution": {
     "iopub.execute_input": "2023-06-28T03:22:26.071073Z",
     "iopub.status.busy": "2023-06-28T03:22:26.070676Z",
     "iopub.status.idle": "2023-06-28T03:22:26.078323Z",
     "shell.execute_reply": "2023-06-28T03:22:26.077053Z"
    },
    "papermill": {
     "duration": 0.018608,
     "end_time": "2023-06-28T03:22:26.080714",
     "exception": false,
     "start_time": "2023-06-28T03:22:26.062106",
     "status": "completed"
    },
    "tags": []
   },
   "outputs": [
    {
     "name": "stdout",
     "output_type": "stream",
     "text": [
      "Model accuracy score with 100 decision-trees : 0.9457\n"
     ]
    }
   ],
   "source": [
    "print('Model accuracy score with 100 decision-trees : {0:0.4f}'. format(accuracy_score(y_test, y_pred_100)))"
   ]
  },
  {
   "cell_type": "code",
   "execution_count": null,
   "id": "6f547a8f",
   "metadata": {
    "papermill": {
     "duration": 0.007239,
     "end_time": "2023-06-28T03:22:26.095652",
     "exception": false,
     "start_time": "2023-06-28T03:22:26.088413",
     "status": "completed"
    },
    "tags": []
   },
   "outputs": [],
   "source": []
  }
 ],
 "metadata": {
  "kernelspec": {
   "display_name": "Python 3",
   "language": "python",
   "name": "python3"
  },
  "language_info": {
   "codemirror_mode": {
    "name": "ipython",
    "version": 3
   },
   "file_extension": ".py",
   "mimetype": "text/x-python",
   "name": "python",
   "nbconvert_exporter": "python",
   "pygments_lexer": "ipython3",
   "version": "3.10.10"
  },
  "papermill": {
   "default_parameters": {},
   "duration": 15.087332,
   "end_time": "2023-06-28T03:22:27.125458",
   "environment_variables": {},
   "exception": null,
   "input_path": "__notebook__.ipynb",
   "output_path": "__notebook__.ipynb",
   "parameters": {},
   "start_time": "2023-06-28T03:22:12.038126",
   "version": "2.4.0"
  }
 },
 "nbformat": 4,
 "nbformat_minor": 5
}
