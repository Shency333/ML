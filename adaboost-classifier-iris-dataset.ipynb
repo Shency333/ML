{
 "cells": [
  {
   "cell_type": "code",
   "execution_count": 1,
   "id": "f6c1fc02",
   "metadata": {
    "_cell_guid": "b1076dfc-b9ad-4769-8c92-a6c4dae69d19",
    "_uuid": "8f2839f25d086af736a60e9eeb907d3b93b6e0e5",
    "execution": {
     "iopub.execute_input": "2023-06-27T05:24:28.316255Z",
     "iopub.status.busy": "2023-06-27T05:24:28.315802Z",
     "iopub.status.idle": "2023-06-27T05:24:30.245807Z",
     "shell.execute_reply": "2023-06-27T05:24:30.244501Z"
    },
    "papermill": {
     "duration": 1.940971,
     "end_time": "2023-06-27T05:24:30.248304",
     "exception": false,
     "start_time": "2023-06-27T05:24:28.307333",
     "status": "completed"
    },
    "tags": []
   },
   "outputs": [
    {
     "name": "stdout",
     "output_type": "stream",
     "text": [
      "/kaggle/input/iris/Iris.csv\n",
      "/kaggle/input/iris/database.sqlite\n"
     ]
    }
   ],
   "source": [
    "import numpy as np\n",
    "import pandas as pd\n",
    "from sklearn.preprocessing import LabelEncoder\n",
    "from sklearn.model_selection import train_test_split\n",
    "from sklearn.ensemble import AdaBoostClassifier\n",
    "from sklearn.metrics import accuracy_score\n",
    "from sklearn.ensemble import AdaBoostClassifier\n",
    "from sklearn.svm import SVC\n",
    "from sklearn.metrics import accuracy_score\n",
    "\n",
    "\n",
    "\n",
    "import os\n",
    "for dirname, _, filenames in os.walk('/kaggle/input'):\n",
    "    for filename in filenames:\n",
    "        print(os.path.join(dirname, filename))"
   ]
  },
  {
   "cell_type": "code",
   "execution_count": 2,
   "id": "7c2ce131",
   "metadata": {
    "execution": {
     "iopub.execute_input": "2023-06-27T05:24:30.262532Z",
     "iopub.status.busy": "2023-06-27T05:24:30.261635Z",
     "iopub.status.idle": "2023-06-27T05:24:30.282578Z",
     "shell.execute_reply": "2023-06-27T05:24:30.281631Z"
    },
    "papermill": {
     "duration": 0.030535,
     "end_time": "2023-06-27T05:24:30.285032",
     "exception": false,
     "start_time": "2023-06-27T05:24:30.254497",
     "status": "completed"
    },
    "tags": []
   },
   "outputs": [],
   "source": [
    "iris = pd.read_csv('/kaggle/input/iris/Iris.csv')"
   ]
  },
  {
   "cell_type": "code",
   "execution_count": 3,
   "id": "6247e490",
   "metadata": {
    "execution": {
     "iopub.execute_input": "2023-06-27T05:24:30.299196Z",
     "iopub.status.busy": "2023-06-27T05:24:30.298824Z",
     "iopub.status.idle": "2023-06-27T05:24:30.332057Z",
     "shell.execute_reply": "2023-06-27T05:24:30.331118Z"
    },
    "papermill": {
     "duration": 0.04301,
     "end_time": "2023-06-27T05:24:30.334210",
     "exception": false,
     "start_time": "2023-06-27T05:24:30.291200",
     "status": "completed"
    },
    "tags": []
   },
   "outputs": [
    {
     "data": {
      "text/html": [
       "<div>\n",
       "<style scoped>\n",
       "    .dataframe tbody tr th:only-of-type {\n",
       "        vertical-align: middle;\n",
       "    }\n",
       "\n",
       "    .dataframe tbody tr th {\n",
       "        vertical-align: top;\n",
       "    }\n",
       "\n",
       "    .dataframe thead th {\n",
       "        text-align: right;\n",
       "    }\n",
       "</style>\n",
       "<table border=\"1\" class=\"dataframe\">\n",
       "  <thead>\n",
       "    <tr style=\"text-align: right;\">\n",
       "      <th></th>\n",
       "      <th>Id</th>\n",
       "      <th>SepalLengthCm</th>\n",
       "      <th>SepalWidthCm</th>\n",
       "      <th>PetalLengthCm</th>\n",
       "      <th>PetalWidthCm</th>\n",
       "      <th>Species</th>\n",
       "    </tr>\n",
       "  </thead>\n",
       "  <tbody>\n",
       "    <tr>\n",
       "      <th>0</th>\n",
       "      <td>1</td>\n",
       "      <td>5.1</td>\n",
       "      <td>3.5</td>\n",
       "      <td>1.4</td>\n",
       "      <td>0.2</td>\n",
       "      <td>Iris-setosa</td>\n",
       "    </tr>\n",
       "    <tr>\n",
       "      <th>1</th>\n",
       "      <td>2</td>\n",
       "      <td>4.9</td>\n",
       "      <td>3.0</td>\n",
       "      <td>1.4</td>\n",
       "      <td>0.2</td>\n",
       "      <td>Iris-setosa</td>\n",
       "    </tr>\n",
       "    <tr>\n",
       "      <th>2</th>\n",
       "      <td>3</td>\n",
       "      <td>4.7</td>\n",
       "      <td>3.2</td>\n",
       "      <td>1.3</td>\n",
       "      <td>0.2</td>\n",
       "      <td>Iris-setosa</td>\n",
       "    </tr>\n",
       "    <tr>\n",
       "      <th>3</th>\n",
       "      <td>4</td>\n",
       "      <td>4.6</td>\n",
       "      <td>3.1</td>\n",
       "      <td>1.5</td>\n",
       "      <td>0.2</td>\n",
       "      <td>Iris-setosa</td>\n",
       "    </tr>\n",
       "    <tr>\n",
       "      <th>4</th>\n",
       "      <td>5</td>\n",
       "      <td>5.0</td>\n",
       "      <td>3.6</td>\n",
       "      <td>1.4</td>\n",
       "      <td>0.2</td>\n",
       "      <td>Iris-setosa</td>\n",
       "    </tr>\n",
       "  </tbody>\n",
       "</table>\n",
       "</div>"
      ],
      "text/plain": [
       "   Id  SepalLengthCm  SepalWidthCm  PetalLengthCm  PetalWidthCm      Species\n",
       "0   1            5.1           3.5            1.4           0.2  Iris-setosa\n",
       "1   2            4.9           3.0            1.4           0.2  Iris-setosa\n",
       "2   3            4.7           3.2            1.3           0.2  Iris-setosa\n",
       "3   4            4.6           3.1            1.5           0.2  Iris-setosa\n",
       "4   5            5.0           3.6            1.4           0.2  Iris-setosa"
      ]
     },
     "execution_count": 3,
     "metadata": {},
     "output_type": "execute_result"
    }
   ],
   "source": [
    "iris.head()"
   ]
  },
  {
   "cell_type": "code",
   "execution_count": 4,
   "id": "d5ea9053",
   "metadata": {
    "execution": {
     "iopub.execute_input": "2023-06-27T05:24:30.348865Z",
     "iopub.status.busy": "2023-06-27T05:24:30.348170Z",
     "iopub.status.idle": "2023-06-27T05:24:30.375992Z",
     "shell.execute_reply": "2023-06-27T05:24:30.374373Z"
    },
    "papermill": {
     "duration": 0.038008,
     "end_time": "2023-06-27T05:24:30.378520",
     "exception": false,
     "start_time": "2023-06-27T05:24:30.340512",
     "status": "completed"
    },
    "tags": []
   },
   "outputs": [
    {
     "name": "stdout",
     "output_type": "stream",
     "text": [
      "<class 'pandas.core.frame.DataFrame'>\n",
      "RangeIndex: 150 entries, 0 to 149\n",
      "Data columns (total 6 columns):\n",
      " #   Column         Non-Null Count  Dtype  \n",
      "---  ------         --------------  -----  \n",
      " 0   Id             150 non-null    int64  \n",
      " 1   SepalLengthCm  150 non-null    float64\n",
      " 2   SepalWidthCm   150 non-null    float64\n",
      " 3   PetalLengthCm  150 non-null    float64\n",
      " 4   PetalWidthCm   150 non-null    float64\n",
      " 5   Species        150 non-null    object \n",
      "dtypes: float64(4), int64(1), object(1)\n",
      "memory usage: 7.2+ KB\n"
     ]
    }
   ],
   "source": [
    "iris.info()"
   ]
  },
  {
   "cell_type": "code",
   "execution_count": 5,
   "id": "7cae5128",
   "metadata": {
    "execution": {
     "iopub.execute_input": "2023-06-27T05:24:30.392863Z",
     "iopub.status.busy": "2023-06-27T05:24:30.392447Z",
     "iopub.status.idle": "2023-06-27T05:24:30.409247Z",
     "shell.execute_reply": "2023-06-27T05:24:30.408121Z"
    },
    "papermill": {
     "duration": 0.026544,
     "end_time": "2023-06-27T05:24:30.411496",
     "exception": false,
     "start_time": "2023-06-27T05:24:30.384952",
     "status": "completed"
    },
    "tags": []
   },
   "outputs": [
    {
     "data": {
      "text/html": [
       "<div>\n",
       "<style scoped>\n",
       "    .dataframe tbody tr th:only-of-type {\n",
       "        vertical-align: middle;\n",
       "    }\n",
       "\n",
       "    .dataframe tbody tr th {\n",
       "        vertical-align: top;\n",
       "    }\n",
       "\n",
       "    .dataframe thead th {\n",
       "        text-align: right;\n",
       "    }\n",
       "</style>\n",
       "<table border=\"1\" class=\"dataframe\">\n",
       "  <thead>\n",
       "    <tr style=\"text-align: right;\">\n",
       "      <th></th>\n",
       "      <th>SepalLengthCm</th>\n",
       "      <th>SepalWidthCm</th>\n",
       "      <th>PetalLengthCm</th>\n",
       "      <th>PetalWidthCm</th>\n",
       "    </tr>\n",
       "  </thead>\n",
       "  <tbody>\n",
       "    <tr>\n",
       "      <th>0</th>\n",
       "      <td>5.1</td>\n",
       "      <td>3.5</td>\n",
       "      <td>1.4</td>\n",
       "      <td>0.2</td>\n",
       "    </tr>\n",
       "    <tr>\n",
       "      <th>1</th>\n",
       "      <td>4.9</td>\n",
       "      <td>3.0</td>\n",
       "      <td>1.4</td>\n",
       "      <td>0.2</td>\n",
       "    </tr>\n",
       "    <tr>\n",
       "      <th>2</th>\n",
       "      <td>4.7</td>\n",
       "      <td>3.2</td>\n",
       "      <td>1.3</td>\n",
       "      <td>0.2</td>\n",
       "    </tr>\n",
       "    <tr>\n",
       "      <th>3</th>\n",
       "      <td>4.6</td>\n",
       "      <td>3.1</td>\n",
       "      <td>1.5</td>\n",
       "      <td>0.2</td>\n",
       "    </tr>\n",
       "    <tr>\n",
       "      <th>4</th>\n",
       "      <td>5.0</td>\n",
       "      <td>3.6</td>\n",
       "      <td>1.4</td>\n",
       "      <td>0.2</td>\n",
       "    </tr>\n",
       "  </tbody>\n",
       "</table>\n",
       "</div>"
      ],
      "text/plain": [
       "   SepalLengthCm  SepalWidthCm  PetalLengthCm  PetalWidthCm\n",
       "0            5.1           3.5            1.4           0.2\n",
       "1            4.9           3.0            1.4           0.2\n",
       "2            4.7           3.2            1.3           0.2\n",
       "3            4.6           3.1            1.5           0.2\n",
       "4            5.0           3.6            1.4           0.2"
      ]
     },
     "execution_count": 5,
     "metadata": {},
     "output_type": "execute_result"
    }
   ],
   "source": [
    "X = iris[['SepalLengthCm','SepalWidthCm','PetalLengthCm','PetalWidthCm']]\n",
    "\n",
    "X.head()"
   ]
  },
  {
   "cell_type": "code",
   "execution_count": 6,
   "id": "96232984",
   "metadata": {
    "execution": {
     "iopub.execute_input": "2023-06-27T05:24:30.426940Z",
     "iopub.status.busy": "2023-06-27T05:24:30.426521Z",
     "iopub.status.idle": "2023-06-27T05:24:30.434592Z",
     "shell.execute_reply": "2023-06-27T05:24:30.433567Z"
    },
    "papermill": {
     "duration": 0.018771,
     "end_time": "2023-06-27T05:24:30.436974",
     "exception": false,
     "start_time": "2023-06-27T05:24:30.418203",
     "status": "completed"
    },
    "tags": []
   },
   "outputs": [
    {
     "data": {
      "text/plain": [
       "0    Iris-setosa\n",
       "1    Iris-setosa\n",
       "2    Iris-setosa\n",
       "3    Iris-setosa\n",
       "4    Iris-setosa\n",
       "Name: Species, dtype: object"
      ]
     },
     "execution_count": 6,
     "metadata": {},
     "output_type": "execute_result"
    }
   ],
   "source": [
    "y = iris['Species']\n",
    "\n",
    "y.head()\n"
   ]
  },
  {
   "cell_type": "code",
   "execution_count": 7,
   "id": "a207e3e8",
   "metadata": {
    "execution": {
     "iopub.execute_input": "2023-06-27T05:24:30.454130Z",
     "iopub.status.busy": "2023-06-27T05:24:30.453732Z",
     "iopub.status.idle": "2023-06-27T05:24:30.459198Z",
     "shell.execute_reply": "2023-06-27T05:24:30.458062Z"
    },
    "papermill": {
     "duration": 0.016366,
     "end_time": "2023-06-27T05:24:30.461711",
     "exception": false,
     "start_time": "2023-06-27T05:24:30.445345",
     "status": "completed"
    },
    "tags": []
   },
   "outputs": [],
   "source": [
    "le=LabelEncoder()\n",
    "\n",
    "y=le.fit_transform(y)"
   ]
  },
  {
   "cell_type": "code",
   "execution_count": 8,
   "id": "9204bc5b",
   "metadata": {
    "execution": {
     "iopub.execute_input": "2023-06-27T05:24:30.477209Z",
     "iopub.status.busy": "2023-06-27T05:24:30.476836Z",
     "iopub.status.idle": "2023-06-27T05:24:30.484789Z",
     "shell.execute_reply": "2023-06-27T05:24:30.483023Z"
    },
    "papermill": {
     "duration": 0.01849,
     "end_time": "2023-06-27T05:24:30.487261",
     "exception": false,
     "start_time": "2023-06-27T05:24:30.468771",
     "status": "completed"
    },
    "tags": []
   },
   "outputs": [
    {
     "data": {
      "text/plain": [
       "array([0, 0, 0, 0, 0, 0, 0, 0, 0, 0, 0, 0, 0, 0, 0, 0, 0, 0, 0, 0, 0, 0,\n",
       "       0, 0, 0, 0, 0, 0, 0, 0, 0, 0, 0, 0, 0, 0, 0, 0, 0, 0, 0, 0, 0, 0,\n",
       "       0, 0, 0, 0, 0, 0, 1, 1, 1, 1, 1, 1, 1, 1, 1, 1, 1, 1, 1, 1, 1, 1,\n",
       "       1, 1, 1, 1, 1, 1, 1, 1, 1, 1, 1, 1, 1, 1, 1, 1, 1, 1, 1, 1, 1, 1,\n",
       "       1, 1, 1, 1, 1, 1, 1, 1, 1, 1, 1, 1, 2, 2, 2, 2, 2, 2, 2, 2, 2, 2,\n",
       "       2, 2, 2, 2, 2, 2, 2, 2, 2, 2, 2, 2, 2, 2, 2, 2, 2, 2, 2, 2, 2, 2,\n",
       "       2, 2, 2, 2, 2, 2, 2, 2, 2, 2, 2, 2, 2, 2, 2, 2, 2, 2])"
      ]
     },
     "execution_count": 8,
     "metadata": {},
     "output_type": "execute_result"
    }
   ],
   "source": [
    "y"
   ]
  },
  {
   "cell_type": "code",
   "execution_count": 9,
   "id": "e87e3c59",
   "metadata": {
    "execution": {
     "iopub.execute_input": "2023-06-27T05:24:30.503033Z",
     "iopub.status.busy": "2023-06-27T05:24:30.502620Z",
     "iopub.status.idle": "2023-06-27T05:24:30.509277Z",
     "shell.execute_reply": "2023-06-27T05:24:30.508157Z"
    },
    "papermill": {
     "duration": 0.017362,
     "end_time": "2023-06-27T05:24:30.511563",
     "exception": false,
     "start_time": "2023-06-27T05:24:30.494201",
     "status": "completed"
    },
    "tags": []
   },
   "outputs": [],
   "source": [
    "X_train, X_test, y_train, y_test = train_test_split(X, y, test_size=0.3)"
   ]
  },
  {
   "cell_type": "code",
   "execution_count": 10,
   "id": "6c7e28c0",
   "metadata": {
    "execution": {
     "iopub.execute_input": "2023-06-27T05:24:30.527288Z",
     "iopub.status.busy": "2023-06-27T05:24:30.526880Z",
     "iopub.status.idle": "2023-06-27T05:24:30.651731Z",
     "shell.execute_reply": "2023-06-27T05:24:30.650445Z"
    },
    "papermill": {
     "duration": 0.136091,
     "end_time": "2023-06-27T05:24:30.654613",
     "exception": false,
     "start_time": "2023-06-27T05:24:30.518522",
     "status": "completed"
    },
    "tags": []
   },
   "outputs": [],
   "source": [
    "abc = AdaBoostClassifier(n_estimators=50, learning_rate=1, random_state=0)\n",
    "model1 = abc.fit(X_train, y_train)\n",
    "y_pred = model1.predict(X_test)"
   ]
  },
  {
   "cell_type": "code",
   "execution_count": 11,
   "id": "9c416f71",
   "metadata": {
    "execution": {
     "iopub.execute_input": "2023-06-27T05:24:30.670694Z",
     "iopub.status.busy": "2023-06-27T05:24:30.670264Z",
     "iopub.status.idle": "2023-06-27T05:24:30.676964Z",
     "shell.execute_reply": "2023-06-27T05:24:30.676034Z"
    },
    "papermill": {
     "duration": 0.017483,
     "end_time": "2023-06-27T05:24:30.679269",
     "exception": false,
     "start_time": "2023-06-27T05:24:30.661786",
     "status": "completed"
    },
    "tags": []
   },
   "outputs": [
    {
     "name": "stdout",
     "output_type": "stream",
     "text": [
      "AdaBoost Classifier Model Accuracy: 0.9555555555555556\n"
     ]
    }
   ],
   "source": [
    "print(\"AdaBoost Classifier Model Accuracy:\", accuracy_score(y_test, y_pred))"
   ]
  },
  {
   "cell_type": "code",
   "execution_count": 12,
   "id": "3b37efaf",
   "metadata": {
    "execution": {
     "iopub.execute_input": "2023-06-27T05:24:30.695601Z",
     "iopub.status.busy": "2023-06-27T05:24:30.695242Z",
     "iopub.status.idle": "2023-06-27T05:24:30.699433Z",
     "shell.execute_reply": "2023-06-27T05:24:30.698479Z"
    },
    "papermill": {
     "duration": 0.014985,
     "end_time": "2023-06-27T05:24:30.701652",
     "exception": false,
     "start_time": "2023-06-27T05:24:30.686667",
     "status": "completed"
    },
    "tags": []
   },
   "outputs": [],
   "source": [
    "svc=SVC(probability=True, kernel='linear')\n"
   ]
  },
  {
   "cell_type": "code",
   "execution_count": 13,
   "id": "821ad981",
   "metadata": {
    "execution": {
     "iopub.execute_input": "2023-06-27T05:24:30.718001Z",
     "iopub.status.busy": "2023-06-27T05:24:30.717296Z",
     "iopub.status.idle": "2023-06-27T05:24:30.722029Z",
     "shell.execute_reply": "2023-06-27T05:24:30.721020Z"
    },
    "papermill": {
     "duration": 0.015622,
     "end_time": "2023-06-27T05:24:30.724427",
     "exception": false,
     "start_time": "2023-06-27T05:24:30.708805",
     "status": "completed"
    },
    "tags": []
   },
   "outputs": [],
   "source": [
    "abc =AdaBoostClassifier(n_estimators=50, base_estimator=svc,learning_rate=1, random_state=0)\n"
   ]
  },
  {
   "cell_type": "code",
   "execution_count": 14,
   "id": "101c3527",
   "metadata": {
    "execution": {
     "iopub.execute_input": "2023-06-27T05:24:30.740266Z",
     "iopub.status.busy": "2023-06-27T05:24:30.739876Z",
     "iopub.status.idle": "2023-06-27T05:24:30.974753Z",
     "shell.execute_reply": "2023-06-27T05:24:30.973490Z"
    },
    "papermill": {
     "duration": 0.245947,
     "end_time": "2023-06-27T05:24:30.977613",
     "exception": false,
     "start_time": "2023-06-27T05:24:30.731666",
     "status": "completed"
    },
    "tags": []
   },
   "outputs": [
    {
     "name": "stderr",
     "output_type": "stream",
     "text": [
      "/opt/conda/lib/python3.10/site-packages/sklearn/ensemble/_base.py:166: FutureWarning: `base_estimator` was renamed to `estimator` in version 1.2 and will be removed in 1.4.\n",
      "  warnings.warn(\n"
     ]
    }
   ],
   "source": [
    "model2 = abc.fit(X_train, y_train)\n"
   ]
  },
  {
   "cell_type": "code",
   "execution_count": 15,
   "id": "03d38cb1",
   "metadata": {
    "execution": {
     "iopub.execute_input": "2023-06-27T05:24:30.993739Z",
     "iopub.status.busy": "2023-06-27T05:24:30.993331Z",
     "iopub.status.idle": "2023-06-27T05:24:31.018292Z",
     "shell.execute_reply": "2023-06-27T05:24:31.017204Z"
    },
    "papermill": {
     "duration": 0.03611,
     "end_time": "2023-06-27T05:24:31.021027",
     "exception": false,
     "start_time": "2023-06-27T05:24:30.984917",
     "status": "completed"
    },
    "tags": []
   },
   "outputs": [],
   "source": [
    "y_pred = model2.predict(X_test)\n"
   ]
  },
  {
   "cell_type": "code",
   "execution_count": 16,
   "id": "fee7595f",
   "metadata": {
    "execution": {
     "iopub.execute_input": "2023-06-27T05:24:31.037196Z",
     "iopub.status.busy": "2023-06-27T05:24:31.036782Z",
     "iopub.status.idle": "2023-06-27T05:24:31.044224Z",
     "shell.execute_reply": "2023-06-27T05:24:31.042928Z"
    },
    "papermill": {
     "duration": 0.018331,
     "end_time": "2023-06-27T05:24:31.046680",
     "exception": false,
     "start_time": "2023-06-27T05:24:31.028349",
     "status": "completed"
    },
    "tags": []
   },
   "outputs": [
    {
     "name": "stdout",
     "output_type": "stream",
     "text": [
      "Model Accuracy with SVC Base Estimator: 0.9555555555555556\n"
     ]
    }
   ],
   "source": [
    "print(\"Model Accuracy with SVC Base Estimator:\",accuracy_score(y_test, y_pred))"
   ]
  },
  {
   "cell_type": "code",
   "execution_count": null,
   "id": "f4dad78b",
   "metadata": {
    "papermill": {
     "duration": 0.006995,
     "end_time": "2023-06-27T05:24:31.060910",
     "exception": false,
     "start_time": "2023-06-27T05:24:31.053915",
     "status": "completed"
    },
    "tags": []
   },
   "outputs": [],
   "source": []
  }
 ],
 "metadata": {
  "kernelspec": {
   "display_name": "Python 3",
   "language": "python",
   "name": "python3"
  },
  "language_info": {
   "codemirror_mode": {
    "name": "ipython",
    "version": 3
   },
   "file_extension": ".py",
   "mimetype": "text/x-python",
   "name": "python",
   "nbconvert_exporter": "python",
   "pygments_lexer": "ipython3",
   "version": "3.10.10"
  },
  "papermill": {
   "default_parameters": {},
   "duration": 16.27225,
   "end_time": "2023-06-27T05:24:32.091403",
   "environment_variables": {},
   "exception": null,
   "input_path": "__notebook__.ipynb",
   "output_path": "__notebook__.ipynb",
   "parameters": {},
   "start_time": "2023-06-27T05:24:15.819153",
   "version": "2.4.0"
  }
 },
 "nbformat": 4,
 "nbformat_minor": 5
}
